{
  "nbformat": 4,
  "nbformat_minor": 0,
  "metadata": {
    "colab": {
      "name": "ComparativaAlgoritmos.ipynb",
      "version": "0.3.2",
      "provenance": [],
      "include_colab_link": true
    },
    "kernelspec": {
      "name": "python3",
      "display_name": "Python 3"
    }
  },
  "cells": [
    {
      "cell_type": "markdown",
      "metadata": {
        "id": "view-in-github",
        "colab_type": "text"
      },
      "source": [
        "<a href=\"https://colab.research.google.com/github/RodrigoTomeES/PersonalBlog/blob/master/ComparativaAlgoritmos.ipynb\" target=\"_parent\"><img src=\"https://colab.research.google.com/assets/colab-badge.svg\" alt=\"Open In Colab\"/></a>"
      ]
    },
    {
      "metadata": {
        "id": "41oIyG5Ul8F5",
        "colab_type": "text"
      },
      "cell_type": "markdown",
      "source": [
        "# Comparativa de los distintos algoritmos"
      ]
    },
    {
      "metadata": {
        "id": "OmnUG_9EmFGS",
        "colab_type": "text"
      },
      "cell_type": "markdown",
      "source": [
        "Empieza ejecutando el siguiente comando para que no se muestren los warnings. "
      ]
    },
    {
      "metadata": {
        "id": "6D-E1E9xl1rC",
        "colab_type": "code",
        "colab": {}
      },
      "cell_type": "code",
      "source": [
        "import warnings; warnings.simplefilter('ignore')"
      ],
      "execution_count": 0,
      "outputs": []
    },
    {
      "metadata": {
        "id": "ERyI2ma7mJS5",
        "colab_type": "text"
      },
      "cell_type": "markdown",
      "source": [
        "## Carga de datos\n",
        "\n",
        "Descarga el fichero de pima-indians-diabetes como realizamos en prácticas anteriores. "
      ]
    },
    {
      "metadata": {
        "id": "hexxstghmjPy",
        "colab_type": "code",
        "colab": {}
      },
      "cell_type": "code",
      "source": [
        "!wget https://poseidus.midomotica.com/IA/dataset/train.csv"
      ],
      "execution_count": 0,
      "outputs": []
    },
    {
      "metadata": {
        "id": "TGCx3JhfxEMW",
        "colab_type": "code",
        "colab": {}
      },
      "cell_type": "code",
      "source": [
        "df['Gender'] = df['Gender'].map({'Male': 0, 'Female': 1})"
      ],
      "execution_count": 0,
      "outputs": []
    },
    {
      "metadata": {
        "id": "ICVphRPjrn5q",
        "colab_type": "text"
      },
      "cell_type": "markdown",
      "source": [
        "Cargamos los datos del fichero train.csv utilizando la librería pandas y  almacenamos los vectores de descriptores en una variable X y las etiquetas en una variable Y."
      ]
    },
    {
      "metadata": {
        "id": "4N-euQvlrnoD",
        "colab_type": "code",
        "colab": {}
      },
      "cell_type": "code",
      "source": [
        "import pandas as pd\n",
        "df = pd.read_csv('train.csv')\n",
        "X =  df.values[:,:-1]\n",
        "Y =  df.values[:,-1]"
      ],
      "execution_count": 0,
      "outputs": []
    },
    {
      "metadata": {
        "id": "krU0BE4xmtxG",
        "colab_type": "text"
      },
      "cell_type": "markdown",
      "source": [
        "## Partición de conjunto de entrenamiento y test\n",
        "\n",
        "Es muy importante separar el conjunto de instancias en dos grupos: el conjunto de entrenamiento y el conjunto de test. Para ello, podemos utilizar la función train_test_split de la librería sklearn."
      ]
    },
    {
      "metadata": {
        "id": "X_sw-Uzsm_mE",
        "colab_type": "code",
        "colab": {}
      },
      "cell_type": "code",
      "source": [
        "from sklearn.model_selection import train_test_split"
      ],
      "execution_count": 0,
      "outputs": []
    },
    {
      "metadata": {
        "id": "H2ozFUPwrElZ",
        "colab_type": "code",
        "colab": {}
      },
      "cell_type": "code",
      "source": [
        "(trainData, testData, trainLabels, testLabels) = train_test_split(X,Y,test_size=0.20, random_state=42)"
      ],
      "execution_count": 0,
      "outputs": []
    },
    {
      "metadata": {
        "id": "_XsN_IjCumxc",
        "colab_type": "text"
      },
      "cell_type": "markdown",
      "source": [
        "## Entrenando distintos algoritmos y seleccionando los hiperparámetros\n",
        "\n",
        "Cargamos las librerias de los siguientes algoritmos:\n",
        " - KNN\n",
        " - Árboles de decisión\n",
        " - Regresión logística\n",
        " - SVM\n",
        " - Redes neuronales"
      ]
    },
    {
      "metadata": {
        "id": "te2I1r_FvAMZ",
        "colab_type": "code",
        "colab": {}
      },
      "cell_type": "code",
      "source": [
        "from sklearn.neighbors import KNeighborsClassifier\n",
        "from sklearn.tree import DecisionTreeClassifier\n",
        "from sklearn.linear_model import LogisticRegression\n",
        "from sklearn.svm import SVC\n",
        "from sklearn.neural_network import MLPClassifier"
      ],
      "execution_count": 0,
      "outputs": []
    },
    {
      "metadata": {
        "id": "Xeftd8SAvOFV",
        "colab_type": "text"
      },
      "cell_type": "markdown",
      "source": [
        "### Validación manual (holdout)\n",
        "\n",
        "La primera alternativa para seleccionar los hiperparámetros consiste en reservar una parte de las instancias del training set para validación, y probar distintos hiperparámetros de manera manual para ver cuál es la mejor solución con cada uno de ellos. Para ello utilizamos de nuevo la función `train_test_split`."
      ]
    },
    {
      "metadata": {
        "id": "sIfTadOSvTLa",
        "colab_type": "code",
        "colab": {}
      },
      "cell_type": "code",
      "source": [
        "(trainData, valData, trainLabels, valLabels) = train_test_split(trainData, trainLabels,\n",
        "                                                                test_size=0.1, random_state=84)"
      ],
      "execution_count": 0,
      "outputs": []
    },
    {
      "metadata": {
        "id": "BtV8wd68wPe3",
        "colab_type": "text"
      },
      "cell_type": "markdown",
      "source": [
        "**KNN**\n",
        "\n",
        "Empezamos ajustando los hiperparámetros del algoritmo KNN propbando con valores de k entre 1  y 25."
      ]
    },
    {
      "metadata": {
        "id": "v-haAZk1wRXa",
        "colab_type": "code",
        "colab": {}
      },
      "cell_type": "code",
      "source": [
        "for k in range(1,26,2):\n",
        "    modelKNN = KNeighborsClassifier(n_neighbors=k)\n",
        "    modelKNN.fit(trainData, trainLabels)\n",
        "    score = modelKNN.score(valData,valLabels)\n",
        "    print(\"k=%d, precisión=%.2f%%\" % (k, score * 100))"
      ],
      "execution_count": 0,
      "outputs": []
    }
  ]
}