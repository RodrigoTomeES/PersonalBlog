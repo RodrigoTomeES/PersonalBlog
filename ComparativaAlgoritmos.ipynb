{
  "nbformat": 4,
  "nbformat_minor": 0,
  "metadata": {
    "colab": {
      "name": "ComparativaAlgoritmos.ipynb",
      "version": "0.3.2",
      "provenance": [],
      "include_colab_link": true
    },
    "kernelspec": {
      "name": "python3",
      "display_name": "Python 3"
    }
  },
  "cells": [
    {
      "cell_type": "markdown",
      "metadata": {
        "id": "view-in-github",
        "colab_type": "text"
      },
      "source": [
        "<a href=\"https://colab.research.google.com/github/RodrigoTomeES/PersonalBlog/blob/master/ComparativaAlgoritmos.ipynb\" target=\"_parent\"><img src=\"https://colab.research.google.com/assets/colab-badge.svg\" alt=\"Open In Colab\"/></a>"
      ]
    },
    {
      "metadata": {
        "id": "41oIyG5Ul8F5",
        "colab_type": "text"
      },
      "cell_type": "markdown",
      "source": [
        "# Comparativa de los distintos algoritmos"
      ]
    },
    {
      "metadata": {
        "id": "OmnUG_9EmFGS",
        "colab_type": "text"
      },
      "cell_type": "markdown",
      "source": [
        "Empieza ejecutando el siguiente comando para que no se muestren los warnings. "
      ]
    },
    {
      "metadata": {
        "id": "6D-E1E9xl1rC",
        "colab_type": "code",
        "colab": {}
      },
      "cell_type": "code",
      "source": [
        "import warnings; warnings.simplefilter('ignore')"
      ],
      "execution_count": 0,
      "outputs": []
    },
    {
      "metadata": {
        "id": "ERyI2ma7mJS5",
        "colab_type": "text"
      },
      "cell_type": "markdown",
      "source": [
        "## Carga de datos\n",
        "\n",
        "Descarga el fichero de pima-indians-diabetes como realizamos en prácticas anteriores. "
      ]
    },
    {
      "metadata": {
        "id": "hexxstghmjPy",
        "colab_type": "code",
        "outputId": "059debf1-69b4-4886-f6e1-4092feda9b02",
        "colab": {
          "base_uri": "https://localhost:8080/",
          "height": 214
        }
      },
      "cell_type": "code",
      "source": [
        "!wget https://poseidus.midomotica.com/IA/dataset/train.csv"
      ],
      "execution_count": 165,
      "outputs": [
        {
          "output_type": "stream",
          "text": [
            "--2019-04-14 21:23:33--  https://poseidus.midomotica.com/IA/dataset/train.csv\n",
            "Resolving poseidus.midomotica.com (poseidus.midomotica.com)... 104.24.104.184, 104.24.105.184\n",
            "Connecting to poseidus.midomotica.com (poseidus.midomotica.com)|104.24.104.184|:443... connected.\n",
            "HTTP request sent, awaiting response... 200 OK\n",
            "Length: 19171 (19K) [application/octet-stream]\n",
            "Saving to: ‘train.csv.7’\n",
            "\n",
            "\rtrain.csv.7           0%[                    ]       0  --.-KB/s               \rtrain.csv.7         100%[===================>]  18.72K  --.-KB/s    in 0s      \n",
            "\n",
            "2019-04-14 21:23:33 (42.1 MB/s) - ‘train.csv.7’ saved [19171/19171]\n",
            "\n"
          ],
          "name": "stdout"
        }
      ]
    },
    {
      "metadata": {
        "id": "ICVphRPjrn5q",
        "colab_type": "text"
      },
      "cell_type": "markdown",
      "source": [
        "Cargamos los datos del fichero train.csv utilizando la librería pandas."
      ]
    },
    {
      "metadata": {
        "id": "4N-euQvlrnoD",
        "colab_type": "code",
        "colab": {}
      },
      "cell_type": "code",
      "source": [
        "import pandas as pd\n",
        "df = pd.read_csv('train.csv')"
      ],
      "execution_count": 0,
      "outputs": []
    },
    {
      "metadata": {
        "id": "b8BiHpsClF5G",
        "colab_type": "text"
      },
      "cell_type": "markdown",
      "source": [
        "Transformamos los datos categoricos a numéricos, Male a 0 y Female a 1. También hacemos lo mismo con la predicción de enfermedad, True = 1 y False = 0."
      ]
    },
    {
      "metadata": {
        "id": "c3Ma1clOygvf",
        "colab_type": "code",
        "colab": {}
      },
      "cell_type": "code",
      "source": [
        "df['Gender'] = df['Gender'].map({'Male': 0, 'Female': 1})\n",
        "df['Prediction'] = df['Prediction'].map({False: 0, True: 1})"
      ],
      "execution_count": 0,
      "outputs": []
    },
    {
      "metadata": {
        "id": "JmedF2xIqSkZ",
        "colab_type": "code",
        "colab": {}
      },
      "cell_type": "code",
      "source": [
        "df.drop(['Albumin'], axis=1, inplace=True) "
      ],
      "execution_count": 0,
      "outputs": []
    },
    {
      "metadata": {
        "id": "nrrd5bqvt7Ih",
        "colab_type": "code",
        "colab": {}
      },
      "cell_type": "code",
      "source": [
        "df.drop(['Direct_Bilirubin'], axis=1, inplace=True) "
      ],
      "execution_count": 0,
      "outputs": []
    },
    {
      "metadata": {
        "id": "u8PPZLf7u4PA",
        "colab_type": "code",
        "colab": {}
      },
      "cell_type": "code",
      "source": [
        "df.drop(['Alamine_Aminotransferase'], axis=1, inplace=True) "
      ],
      "execution_count": 0,
      "outputs": []
    },
    {
      "metadata": {
        "id": "qnwlO-D-lEOu",
        "colab_type": "text"
      },
      "cell_type": "markdown",
      "source": [
        "Almacenamos los vectores de descriptores en una variable X y las etiquetas en una variable Y."
      ]
    },
    {
      "metadata": {
        "id": "fWroJ0jJlASI",
        "colab_type": "code",
        "colab": {}
      },
      "cell_type": "code",
      "source": [
        "X =  df.values[:,:-1]\n",
        "Y =  df.values[:,-1]"
      ],
      "execution_count": 0,
      "outputs": []
    },
    {
      "metadata": {
        "id": "krU0BE4xmtxG",
        "colab_type": "text"
      },
      "cell_type": "markdown",
      "source": [
        "## Partición de conjunto de entrenamiento y test\n",
        "\n",
        "Es muy importante separar el conjunto de instancias en dos grupos: el conjunto de entrenamiento y el conjunto de test. Para ello, podemos utilizar la función train_test_split de la librería sklearn."
      ]
    },
    {
      "metadata": {
        "id": "X_sw-Uzsm_mE",
        "colab_type": "code",
        "colab": {}
      },
      "cell_type": "code",
      "source": [
        "from sklearn.model_selection import train_test_split"
      ],
      "execution_count": 0,
      "outputs": []
    },
    {
      "metadata": {
        "id": "H2ozFUPwrElZ",
        "colab_type": "code",
        "colab": {}
      },
      "cell_type": "code",
      "source": [
        "(trainData, testData, trainLabels, testLabels) = train_test_split(X,Y,test_size=0.20, random_state=42)"
      ],
      "execution_count": 0,
      "outputs": []
    },
    {
      "metadata": {
        "id": "iBjs9HhF1jsM",
        "colab_type": "code",
        "colab": {}
      },
      "cell_type": "code",
      "source": [
        "from sklearn.preprocessing import MinMaxScaler\n",
        "mms = MinMaxScaler()\n",
        "X_train_norm = mms.fit_transform(trainData)\n",
        "X_test_norm = mms.transform(testData)"
      ],
      "execution_count": 0,
      "outputs": []
    },
    {
      "metadata": {
        "id": "UHWR_C_L1q_X",
        "colab_type": "code",
        "colab": {}
      },
      "cell_type": "code",
      "source": [
        "from sklearn.preprocessing import StandardScaler\n",
        "stdsc = StandardScaler()\n",
        "X_train_std = stdsc.fit_transform(trainData)\n",
        "X_test_std = stdsc.transform(testData)"
      ],
      "execution_count": 0,
      "outputs": []
    },
    {
      "metadata": {
        "id": "_XsN_IjCumxc",
        "colab_type": "text"
      },
      "cell_type": "markdown",
      "source": [
        "## Entrenando distintos algoritmos y seleccionando los hiperparámetros\n",
        "\n",
        "Cargamos las librerias de los siguientes algoritmos:\n",
        " - KNN\n",
        " - Árboles de decisión\n",
        " - Regresión logística\n",
        " - SVM\n",
        " - Redes neuronales"
      ]
    },
    {
      "metadata": {
        "id": "te2I1r_FvAMZ",
        "colab_type": "code",
        "colab": {}
      },
      "cell_type": "code",
      "source": [
        "from sklearn.neighbors import KNeighborsClassifier\n",
        "from sklearn.tree import DecisionTreeClassifier\n",
        "from sklearn.linear_model import LogisticRegression\n",
        "from sklearn.svm import SVC\n",
        "from sklearn.neural_network import MLPClassifier"
      ],
      "execution_count": 0,
      "outputs": []
    },
    {
      "metadata": {
        "id": "Xeftd8SAvOFV",
        "colab_type": "text"
      },
      "cell_type": "markdown",
      "source": [
        "### Validación manual (holdout)\n",
        "\n",
        "La primera alternativa para seleccionar los hiperparámetros consiste en reservar una parte de las instancias del training set para validación, y probar distintos hiperparámetros de manera manual para ver cuál es la mejor solución con cada uno de ellos. Para ello utilizamos de nuevo la función `train_test_split`."
      ]
    },
    {
      "metadata": {
        "id": "sIfTadOSvTLa",
        "colab_type": "code",
        "colab": {}
      },
      "cell_type": "code",
      "source": [
        "(trainData, valData, trainLabels, valLabels) = train_test_split(trainData, trainLabels,\n",
        "                                                                test_size=0.1, random_state=84)"
      ],
      "execution_count": 0,
      "outputs": []
    },
    {
      "metadata": {
        "id": "NeEOQrhR159e",
        "colab_type": "code",
        "colab": {}
      },
      "cell_type": "code",
      "source": [
        "from sklearn.preprocessing import MinMaxScaler\n",
        "mms = MinMaxScaler()\n",
        "X_train_norm = mms.fit_transform(trainData)\n",
        "X_val_norm = mms.transform(valData)"
      ],
      "execution_count": 0,
      "outputs": []
    },
    {
      "metadata": {
        "id": "9guOYzEC14hj",
        "colab_type": "code",
        "colab": {}
      },
      "cell_type": "code",
      "source": [
        "from sklearn.preprocessing import StandardScaler\n",
        "stdsc = StandardScaler()\n",
        "X_train_std = stdsc.fit_transform(trainData)\n",
        "X_val_std = stdsc.transform(valData)"
      ],
      "execution_count": 0,
      "outputs": []
    },
    {
      "metadata": {
        "id": "BtV8wd68wPe3",
        "colab_type": "text"
      },
      "cell_type": "markdown",
      "source": [
        "**KNN**\n",
        "\n",
        "Empezamos ajustando los hiperparámetros del algoritmo KNN propbando con valores de k entre 1  y 25."
      ]
    },
    {
      "metadata": {
        "id": "v-haAZk1wRXa",
        "colab_type": "code",
        "outputId": "7870da3e-a34b-47a0-e929-9b0a79d7ba9e",
        "colab": {
          "base_uri": "https://localhost:8080/",
          "height": 249
        }
      },
      "cell_type": "code",
      "source": [
        "for k in range(1,26,2):\n",
        "    modelKNN = KNeighborsClassifier(n_neighbors=k)\n",
        "    modelKNN.fit(trainData, trainLabels)\n",
        "    score = modelKNN.score(valData,valLabels)\n",
        "    print(\"k=%d, precisión=%.2f%%\" % (k, score * 100))"
      ],
      "execution_count": 176,
      "outputs": [
        {
          "output_type": "stream",
          "text": [
            "k=1, precisión=74.29%\n",
            "k=3, precisión=77.14%\n",
            "k=5, precisión=77.14%\n",
            "k=7, precisión=71.43%\n",
            "k=9, precisión=65.71%\n",
            "k=11, precisión=82.86%\n",
            "k=13, precisión=74.29%\n",
            "k=15, precisión=74.29%\n",
            "k=17, precisión=74.29%\n",
            "k=19, precisión=74.29%\n",
            "k=21, precisión=74.29%\n",
            "k=23, precisión=77.14%\n",
            "k=25, precisión=77.14%\n"
          ],
          "name": "stdout"
        }
      ]
    },
    {
      "metadata": {
        "id": "y946BP2O1xwu",
        "colab_type": "code",
        "colab": {
          "base_uri": "https://localhost:8080/",
          "height": 249
        },
        "outputId": "b19decb5-5b41-4cad-fc49-873c7e1b8e8a"
      },
      "cell_type": "code",
      "source": [
        "for k in range(1,26,2):\n",
        "    modelKNN = KNeighborsClassifier(n_neighbors=k)\n",
        "    modelKNN.fit(X_train_norm, trainLabels)\n",
        "    score = modelKNN.score(X_val_norm,valLabels)\n",
        "    print(\"k=%d, precisión=%.2f%%\" % (k, score * 100))"
      ],
      "execution_count": 213,
      "outputs": [
        {
          "output_type": "stream",
          "text": [
            "k=1, precisión=100.00%\n",
            "k=3, precisión=80.00%\n",
            "k=5, precisión=74.29%\n",
            "k=7, precisión=71.43%\n",
            "k=9, precisión=77.14%\n",
            "k=11, precisión=74.29%\n",
            "k=13, precisión=80.00%\n",
            "k=15, precisión=77.14%\n",
            "k=17, precisión=77.14%\n",
            "k=19, precisión=77.14%\n",
            "k=21, precisión=74.29%\n",
            "k=23, precisión=80.00%\n",
            "k=25, precisión=77.14%\n"
          ],
          "name": "stdout"
        }
      ]
    },
    {
      "metadata": {
        "id": "3_ALG_O61xYX",
        "colab_type": "code",
        "colab": {
          "base_uri": "https://localhost:8080/",
          "height": 249
        },
        "outputId": "3aa8e045-13b7-4576-93b0-1d7a148ae149"
      },
      "cell_type": "code",
      "source": [
        "for k in range(1,26,2):\n",
        "    modelKNN = KNeighborsClassifier(n_neighbors=k)\n",
        "    modelKNN.fit(X_train_std, trainLabels)\n",
        "    score = modelKNN.score(X_val_std,valLabels)\n",
        "    print(\"k=%d, precisión=%.2f%%\" % (k, score * 100))"
      ],
      "execution_count": 216,
      "outputs": [
        {
          "output_type": "stream",
          "text": [
            "k=1, precisión=100.00%\n",
            "k=3, precisión=82.86%\n",
            "k=5, precisión=77.14%\n",
            "k=7, precisión=74.29%\n",
            "k=9, precisión=82.86%\n",
            "k=11, precisión=82.86%\n",
            "k=13, precisión=82.86%\n",
            "k=15, precisión=80.00%\n",
            "k=17, precisión=80.00%\n",
            "k=19, precisión=80.00%\n",
            "k=21, precisión=80.00%\n",
            "k=23, precisión=80.00%\n",
            "k=25, precisión=80.00%\n"
          ],
          "name": "stdout"
        }
      ]
    },
    {
      "metadata": {
        "id": "zI235gt7m4sX",
        "colab_type": "text"
      },
      "cell_type": "markdown",
      "source": [
        "**Árboles de decisión**\n",
        "\n",
        "Vamos ha hacer lo mismo visto para KNN para los árboles de decisión con el hiperparámetro min_samples_split con valores entre 2 y 10 avanzando de 1 en 1. Puedes ver lo que hace este hiperparámetro en la [documentación de sklearn](http://scikit-learn.org/stable/modules/tree.html)."
      ]
    },
    {
      "metadata": {
        "id": "j0WDDPI4mues",
        "colab_type": "code",
        "colab": {
          "base_uri": "https://localhost:8080/",
          "height": 178
        },
        "outputId": "f17f7900-1ffc-42f6-d412-fc7613161eb8"
      },
      "cell_type": "code",
      "source": [
        "for k in range(2,11):\n",
        "    modelTree = DecisionTreeClassifier(min_samples_split=k, random_state=84)\n",
        "    modelTree.fit(trainData, trainLabels)\n",
        "    score = modelTree.score(valData,valLabels)\n",
        "    print(\"k=%d, precisión=%.2f%%\" % (k, score * 100))"
      ],
      "execution_count": 177,
      "outputs": [
        {
          "output_type": "stream",
          "text": [
            "k=2, precisión=60.00%\n",
            "k=3, precisión=60.00%\n",
            "k=4, precisión=65.71%\n",
            "k=5, precisión=71.43%\n",
            "k=6, precisión=71.43%\n",
            "k=7, precisión=74.29%\n",
            "k=8, precisión=68.57%\n",
            "k=9, precisión=62.86%\n",
            "k=10, precisión=62.86%\n"
          ],
          "name": "stdout"
        }
      ]
    },
    {
      "metadata": {
        "id": "9wKUdhxv2n0-",
        "colab_type": "code",
        "colab": {
          "base_uri": "https://localhost:8080/",
          "height": 178
        },
        "outputId": "3f77b8d2-0956-441c-8805-92e1e8d3daac"
      },
      "cell_type": "code",
      "source": [
        "for k in range(2,11):\n",
        "    modelTree = DecisionTreeClassifier(min_samples_split=k, random_state=84)\n",
        "    modelTree.fit(X_train_norm, trainLabels)\n",
        "    score = modelTree.score(X_val_norm,valLabels)\n",
        "    print(\"k=%d, precisión=%.2f%%\" % (k, score * 100))"
      ],
      "execution_count": 217,
      "outputs": [
        {
          "output_type": "stream",
          "text": [
            "k=2, precisión=100.00%\n",
            "k=3, precisión=97.14%\n",
            "k=4, precisión=94.29%\n",
            "k=5, precisión=94.29%\n",
            "k=6, precisión=97.14%\n",
            "k=7, precisión=94.29%\n",
            "k=8, precisión=91.43%\n",
            "k=9, precisión=91.43%\n",
            "k=10, precisión=91.43%\n"
          ],
          "name": "stdout"
        }
      ]
    },
    {
      "metadata": {
        "id": "DXZ6yuVC2nrT",
        "colab_type": "code",
        "colab": {
          "base_uri": "https://localhost:8080/",
          "height": 178
        },
        "outputId": "8dde83c0-67a6-4796-d482-c0b6b05e9de6"
      },
      "cell_type": "code",
      "source": [
        "for k in range(2,11):\n",
        "    modelTree = DecisionTreeClassifier(min_samples_split=k, random_state=84)\n",
        "    modelTree.fit(X_train_std, trainLabels)\n",
        "    score = modelTree.score(X_val_std,valLabels)\n",
        "    print(\"k=%d, precisión=%.2f%%\" % (k, score * 100))"
      ],
      "execution_count": 219,
      "outputs": [
        {
          "output_type": "stream",
          "text": [
            "k=2, precisión=100.00%\n",
            "k=3, precisión=97.14%\n",
            "k=4, precisión=94.29%\n",
            "k=5, precisión=94.29%\n",
            "k=6, precisión=97.14%\n",
            "k=7, precisión=94.29%\n",
            "k=8, precisión=91.43%\n",
            "k=9, precisión=91.43%\n",
            "k=10, precisión=91.43%\n"
          ],
          "name": "stdout"
        }
      ]
    },
    {
      "metadata": {
        "id": "qlN2jVA6nIIu",
        "colab_type": "text"
      },
      "cell_type": "markdown",
      "source": [
        "**Regresión logística**\n",
        "\n",
        "Repite lo mismo visto para KNN para la regresión logística con C tomando los valores 0.1,1,10,100, y 1000."
      ]
    },
    {
      "metadata": {
        "id": "zXR08mbEm2co",
        "colab_type": "code",
        "colab": {
          "base_uri": "https://localhost:8080/",
          "height": 106
        },
        "outputId": "17ed6a82-915b-4232-8b7d-61cbef2a521d"
      },
      "cell_type": "code",
      "source": [
        "k = 0.1\n",
        "while k <= 1000:\n",
        "    modelLR = LogisticRegression(random_state=84, C=k)\n",
        "    modelLR.fit(trainData, trainLabels)\n",
        "    score = modelLR.score(valData,valLabels)\n",
        "    print(\"k=%d, precisión=%.2f%%\" % (k, score * 100))\n",
        "    k *=10"
      ],
      "execution_count": 178,
      "outputs": [
        {
          "output_type": "stream",
          "text": [
            "k=0, precisión=71.43%\n",
            "k=1, precisión=71.43%\n",
            "k=10, precisión=71.43%\n",
            "k=100, precisión=71.43%\n",
            "k=1000, precisión=71.43%\n"
          ],
          "name": "stdout"
        }
      ]
    },
    {
      "metadata": {
        "id": "MRwVHp9Q3QcD",
        "colab_type": "code",
        "colab": {
          "base_uri": "https://localhost:8080/",
          "height": 106
        },
        "outputId": "37eb19cd-0679-4c35-b7c0-69adb1db11da"
      },
      "cell_type": "code",
      "source": [
        "k = 0.1\n",
        "while k <= 1000:\n",
        "    modelLR = LogisticRegression(random_state=84, C=k)\n",
        "    modelLR.fit(X_train_norm, trainLabels)\n",
        "    score = modelLR.score(X_val_norm,valLabels)\n",
        "    print(\"k=%d, precisión=%.2f%%\" % (k, score * 100))\n",
        "    k *=10"
      ],
      "execution_count": 221,
      "outputs": [
        {
          "output_type": "stream",
          "text": [
            "k=0, precisión=71.43%\n",
            "k=1, precisión=71.43%\n",
            "k=10, precisión=71.43%\n",
            "k=100, precisión=74.29%\n",
            "k=1000, precisión=74.29%\n"
          ],
          "name": "stdout"
        }
      ]
    },
    {
      "metadata": {
        "id": "rmk3TWws3QTU",
        "colab_type": "code",
        "colab": {
          "base_uri": "https://localhost:8080/",
          "height": 106
        },
        "outputId": "6a322b44-8106-412c-806a-ac3710ab8e96"
      },
      "cell_type": "code",
      "source": [
        "k = 0.1\n",
        "while k <= 1000:\n",
        "    modelLR = LogisticRegression(random_state=84, C=k)\n",
        "    modelLR.fit(X_train_std, trainLabels)\n",
        "    score = modelLR.score(X_val_std,valLabels)\n",
        "    print(\"k=%d, precisión=%.2f%%\" % (k, score * 100))\n",
        "    k *=10"
      ],
      "execution_count": 222,
      "outputs": [
        {
          "output_type": "stream",
          "text": [
            "k=0, precisión=71.43%\n",
            "k=1, precisión=74.29%\n",
            "k=10, precisión=74.29%\n",
            "k=100, precisión=74.29%\n",
            "k=1000, precisión=74.29%\n"
          ],
          "name": "stdout"
        }
      ]
    },
    {
      "metadata": {
        "id": "yyrHSTimnOLn",
        "colab_type": "text"
      },
      "cell_type": "markdown",
      "source": [
        "### 10-fold cross validation \n",
        "\n",
        "Una alternativa al método anterior donde hacemos la separación del training set en training y validation de manera manual, consiste en utilizar el k-fold cross validation. Existen distintas alternativas para el k-fold cross validation en sklearn.\n",
        "\n",
        "Recuperamos lo primero todo nuestro conjunto de entrenamiento uniendo el conjunto de entrenamiento y el de validación."
      ]
    },
    {
      "metadata": {
        "id": "ICD7PiqXnSl4",
        "colab_type": "code",
        "colab": {}
      },
      "cell_type": "code",
      "source": [
        "import numpy as np\n",
        "trainData=np.concatenate((trainData,valData),axis=0)\n",
        "trainLabels=np.concatenate((trainLabels,valLabels),axis=0)"
      ],
      "execution_count": 0,
      "outputs": []
    },
    {
      "metadata": {
        "id": "w8G_VrJnoOdu",
        "colab_type": "text"
      },
      "cell_type": "markdown",
      "source": [
        "**KNN**\n",
        "\n",
        "La manera más sencilla de utilizar el k-fold validation consiste en utilizar la función `cross_val_score`."
      ]
    },
    {
      "metadata": {
        "id": "StRDIjGXoPjO",
        "colab_type": "code",
        "colab": {
          "base_uri": "https://localhost:8080/",
          "height": 249
        },
        "outputId": "82278406-f6b6-470a-c18b-f981c3e555c2"
      },
      "cell_type": "code",
      "source": [
        "from sklearn.model_selection import cross_val_score\n",
        "\n",
        "for k in range(1,26,2):\n",
        "    modelKNN = KNeighborsClassifier(n_neighbors=k)\n",
        "    scores = cross_val_score(modelKNN,trainData,trainLabels,cv=10)\n",
        "    print(\"k=%d, Precisión: %0.2f (+/- %0.2f)\" % (k, scores.mean(), scores.std() * 2))"
      ],
      "execution_count": 180,
      "outputs": [
        {
          "output_type": "stream",
          "text": [
            "k=1, Precisión: 0.68 (+/- 0.19)\n",
            "k=3, Precisión: 0.71 (+/- 0.15)\n",
            "k=5, Precisión: 0.68 (+/- 0.13)\n",
            "k=7, Precisión: 0.69 (+/- 0.12)\n",
            "k=9, Precisión: 0.69 (+/- 0.14)\n",
            "k=11, Precisión: 0.68 (+/- 0.17)\n",
            "k=13, Precisión: 0.67 (+/- 0.13)\n",
            "k=15, Precisión: 0.69 (+/- 0.15)\n",
            "k=17, Precisión: 0.68 (+/- 0.15)\n",
            "k=19, Precisión: 0.69 (+/- 0.15)\n",
            "k=21, Precisión: 0.70 (+/- 0.14)\n",
            "k=23, Precisión: 0.69 (+/- 0.12)\n",
            "k=25, Precisión: 0.69 (+/- 0.11)\n"
          ],
          "name": "stdout"
        }
      ]
    },
    {
      "metadata": {
        "id": "rw8j6OAC3rdW",
        "colab_type": "code",
        "colab": {
          "base_uri": "https://localhost:8080/",
          "height": 249
        },
        "outputId": "b987343b-4065-416b-d28a-91c20d3adb62"
      },
      "cell_type": "code",
      "source": [
        "from sklearn.model_selection import cross_val_score\n",
        "\n",
        "for k in range(1,26,2):\n",
        "    modelKNN = KNeighborsClassifier(n_neighbors=k)\n",
        "    scores = cross_val_score(modelKNN,X_train_norm,trainLabels,cv=10)\n",
        "    print(\"k=%d, Precisión: %0.2f (+/- %0.2f)\" % (k, scores.mean(), scores.std() * 2))"
      ],
      "execution_count": 223,
      "outputs": [
        {
          "output_type": "stream",
          "text": [
            "k=1, Precisión: 0.66 (+/- 0.16)\n",
            "k=3, Precisión: 0.65 (+/- 0.11)\n",
            "k=5, Precisión: 0.64 (+/- 0.10)\n",
            "k=7, Precisión: 0.67 (+/- 0.11)\n",
            "k=9, Precisión: 0.67 (+/- 0.14)\n",
            "k=11, Precisión: 0.69 (+/- 0.17)\n",
            "k=13, Precisión: 0.70 (+/- 0.12)\n",
            "k=15, Precisión: 0.70 (+/- 0.14)\n",
            "k=17, Precisión: 0.69 (+/- 0.08)\n",
            "k=19, Precisión: 0.68 (+/- 0.09)\n",
            "k=21, Precisión: 0.70 (+/- 0.07)\n",
            "k=23, Precisión: 0.69 (+/- 0.08)\n",
            "k=25, Precisión: 0.68 (+/- 0.08)\n"
          ],
          "name": "stdout"
        }
      ]
    },
    {
      "metadata": {
        "id": "g6fmHzcx3rSd",
        "colab_type": "code",
        "colab": {
          "base_uri": "https://localhost:8080/",
          "height": 249
        },
        "outputId": "8d1341be-416e-42fb-d7c9-fbf34da4bcc6"
      },
      "cell_type": "code",
      "source": [
        "from sklearn.model_selection import cross_val_score\n",
        "\n",
        "for k in range(1,26,2):\n",
        "    modelKNN = KNeighborsClassifier(n_neighbors=k)\n",
        "    scores = cross_val_score(modelKNN,X_train_std,trainLabels,cv=10)\n",
        "    print(\"k=%d, Precisión: %0.2f (+/- %0.2f)\" % (k, scores.mean(), scores.std() * 2))"
      ],
      "execution_count": 224,
      "outputs": [
        {
          "output_type": "stream",
          "text": [
            "k=1, Precisión: 0.68 (+/- 0.16)\n",
            "k=3, Precisión: 0.66 (+/- 0.11)\n",
            "k=5, Precisión: 0.65 (+/- 0.19)\n",
            "k=7, Precisión: 0.69 (+/- 0.15)\n",
            "k=9, Precisión: 0.68 (+/- 0.18)\n",
            "k=11, Precisión: 0.69 (+/- 0.15)\n",
            "k=13, Precisión: 0.69 (+/- 0.13)\n",
            "k=15, Precisión: 0.71 (+/- 0.10)\n",
            "k=17, Precisión: 0.71 (+/- 0.10)\n",
            "k=19, Precisión: 0.71 (+/- 0.11)\n",
            "k=21, Precisión: 0.71 (+/- 0.09)\n",
            "k=23, Precisión: 0.70 (+/- 0.07)\n",
            "k=25, Precisión: 0.71 (+/- 0.04)\n"
          ],
          "name": "stdout"
        }
      ]
    },
    {
      "metadata": {
        "id": "lDkHK94Xq6kY",
        "colab_type": "code",
        "colab": {}
      },
      "cell_type": "code",
      "source": [
        "modelSVM = SVC()"
      ],
      "execution_count": 0,
      "outputs": []
    },
    {
      "metadata": {
        "id": "psnCR8ZsrCtX",
        "colab_type": "code",
        "colab": {}
      },
      "cell_type": "code",
      "source": [
        "modelNeuronalNetwork = MLPClassifier()"
      ],
      "execution_count": 0,
      "outputs": []
    },
    {
      "metadata": {
        "id": "ESCDVtYZrH_C",
        "colab_type": "code",
        "colab": {}
      },
      "cell_type": "code",
      "source": [
        "from sklearn.model_selection import RandomizedSearchCV\n",
        "from scipy.stats import randint as sp_randint\n",
        "\n",
        "def randomsearch(model,parameters):\n",
        "    print(\"# Tuning hyper-parameters for %s\" % score)\n",
        "    print()\n",
        "\n",
        "    clf = RandomizedSearchCV(model, parameters,cv=5)\n",
        "    clf.fit(trainData, trainLabels)\n",
        "\n",
        "    print(\"Best parameters set found on development set:\")\n",
        "    print()\n",
        "    print(clf.best_params_)\n",
        "    print()"
      ],
      "execution_count": 0,
      "outputs": []
    },
    {
      "metadata": {
        "id": "p4_Y-rrp36n8",
        "colab_type": "code",
        "colab": {}
      },
      "cell_type": "code",
      "source": [
        "from sklearn.model_selection import RandomizedSearchCV\n",
        "from scipy.stats import randint as sp_randint\n",
        "\n",
        "def randomsearchNORM(model,parameters):\n",
        "    print(\"# Tuning hyper-parameters for %s\" % score)\n",
        "    print()\n",
        "\n",
        "    clf = RandomizedSearchCV(model, parameters,cv=5)\n",
        "    clf.fit(X_train_norm, trainLabels)\n",
        "\n",
        "    print(\"Best parameters set found on development set:\")\n",
        "    print()\n",
        "    print(clf.best_params_)\n",
        "    print()"
      ],
      "execution_count": 0,
      "outputs": []
    },
    {
      "metadata": {
        "id": "N1lUSHsR3_X3",
        "colab_type": "code",
        "colab": {}
      },
      "cell_type": "code",
      "source": [
        "from sklearn.model_selection import RandomizedSearchCV\n",
        "from scipy.stats import randint as sp_randint\n",
        "\n",
        "def randomsearchSTD(model,parameters):\n",
        "    print(\"# Tuning hyper-parameters for %s\" % score)\n",
        "    print()\n",
        "\n",
        "    clf = RandomizedSearchCV(model, parameters,cv=5)\n",
        "    clf.fit(X_train_std, trainLabels)\n",
        "\n",
        "    print(\"Best parameters set found on development set:\")\n",
        "    print()\n",
        "    print(clf.best_params_)\n",
        "    print()"
      ],
      "execution_count": 0,
      "outputs": []
    },
    {
      "metadata": {
        "id": "yPedxyXLrEhr",
        "colab_type": "code",
        "colab": {
          "base_uri": "https://localhost:8080/",
          "height": 180
        },
        "outputId": "1f9bf898-1293-427b-aa73-1605d3d9af99"
      },
      "cell_type": "code",
      "source": [
        "%time\n",
        "randomsearch(modelNeuronalNetwork, {'hidden_layer_sizes': [(5,2), (3,3,3), (5,3,2), (5,4,3,2)], \n",
        "                        'activation': ['identity','logistic','tanh','relu'],\n",
        "                        'momentum': [0.9, 0.95, 0.99],\n",
        "                        'learning_rate_init': [0.001, 0.01, 0.1]})"
      ],
      "execution_count": 205,
      "outputs": [
        {
          "output_type": "stream",
          "text": [
            "CPU times: user 3 µs, sys: 0 ns, total: 3 µs\n",
            "Wall time: 6.91 µs\n",
            "# Tuning hyper-parameters for 0.7142857142857143\n",
            "\n",
            "Best parameters set found on development set:\n",
            "\n",
            "{'momentum': 0.9, 'learning_rate_init': 0.1, 'hidden_layer_sizes': (5, 3, 2), 'activation': 'identity'}\n",
            "\n"
          ],
          "name": "stdout"
        }
      ]
    },
    {
      "metadata": {
        "id": "_ywwtDHQ4OoC",
        "colab_type": "code",
        "colab": {
          "base_uri": "https://localhost:8080/",
          "height": 180
        },
        "outputId": "9aa4924c-da93-4b38-aeef-1b57bd93fee5"
      },
      "cell_type": "code",
      "source": [
        "%time\n",
        "randomsearchNORM(modelNeuronalNetwork, {'hidden_layer_sizes': [(5,2), (3,3,3), (5,3,2), (5,4,3,2)], \n",
        "                        'activation': ['identity','logistic','tanh','relu'],\n",
        "                        'momentum': [0.9, 0.95, 0.99],\n",
        "                        'learning_rate_init': [0.001, 0.01, 0.1]})"
      ],
      "execution_count": 227,
      "outputs": [
        {
          "output_type": "stream",
          "text": [
            "CPU times: user 4 µs, sys: 1 µs, total: 5 µs\n",
            "Wall time: 7.39 µs\n",
            "# Tuning hyper-parameters for 0.7428571428571429\n",
            "\n",
            "Best parameters set found on development set:\n",
            "\n",
            "{'momentum': 0.9, 'learning_rate_init': 0.001, 'hidden_layer_sizes': (3, 3, 3), 'activation': 'logistic'}\n",
            "\n"
          ],
          "name": "stdout"
        }
      ]
    },
    {
      "metadata": {
        "id": "3G7_AdUz4OZ1",
        "colab_type": "code",
        "colab": {
          "base_uri": "https://localhost:8080/",
          "height": 180
        },
        "outputId": "0b7aec47-f6e0-4f14-ba19-de8f0de06d09"
      },
      "cell_type": "code",
      "source": [
        "%time\n",
        "randomsearchSTD(modelNeuronalNetwork, {'hidden_layer_sizes': [(5,2), (3,3,3), (5,3,2), (5,4,3,2)], \n",
        "                        'activation': ['identity','logistic','tanh','relu'],\n",
        "                        'momentum': [0.9, 0.95, 0.99],\n",
        "                        'learning_rate_init': [0.001, 0.01, 0.1]})"
      ],
      "execution_count": 228,
      "outputs": [
        {
          "output_type": "stream",
          "text": [
            "CPU times: user 4 µs, sys: 0 ns, total: 4 µs\n",
            "Wall time: 10 µs\n",
            "# Tuning hyper-parameters for 0.7428571428571429\n",
            "\n",
            "Best parameters set found on development set:\n",
            "\n",
            "{'momentum': 0.9, 'learning_rate_init': 0.001, 'hidden_layer_sizes': (5, 4, 3, 2), 'activation': 'relu'}\n",
            "\n"
          ],
          "name": "stdout"
        }
      ]
    },
    {
      "metadata": {
        "id": "3Q4y9qjrrQV7",
        "colab_type": "code",
        "colab": {
          "base_uri": "https://localhost:8080/",
          "height": 71
        },
        "outputId": "b3604843-497b-4347-a277-0ef8977bde4f"
      },
      "cell_type": "code",
      "source": [
        "modelKNN = KNeighborsClassifier(n_neighbors=23)\n",
        "modelKNN.fit(trainData, trainLabels)"
      ],
      "execution_count": 185,
      "outputs": [
        {
          "output_type": "execute_result",
          "data": {
            "text/plain": [
              "KNeighborsClassifier(algorithm='auto', leaf_size=30, metric='minkowski',\n",
              "           metric_params=None, n_jobs=None, n_neighbors=23, p=2,\n",
              "           weights='uniform')"
            ]
          },
          "metadata": {
            "tags": []
          },
          "execution_count": 185
        }
      ]
    },
    {
      "metadata": {
        "id": "o7TdH8v24kTI",
        "colab_type": "code",
        "colab": {
          "base_uri": "https://localhost:8080/",
          "height": 71
        },
        "outputId": "d42524b7-f7ff-4e62-f38b-8051a547c8e1"
      },
      "cell_type": "code",
      "source": [
        "modelKNNNorm = KNeighborsClassifier(n_neighbors=1)\n",
        "modelKNNNorm.fit(X_train_norm, trainLabels)"
      ],
      "execution_count": 249,
      "outputs": [
        {
          "output_type": "execute_result",
          "data": {
            "text/plain": [
              "KNeighborsClassifier(algorithm='auto', leaf_size=30, metric='minkowski',\n",
              "           metric_params=None, n_jobs=None, n_neighbors=1, p=2,\n",
              "           weights='uniform')"
            ]
          },
          "metadata": {
            "tags": []
          },
          "execution_count": 249
        }
      ]
    },
    {
      "metadata": {
        "id": "uVVHGEZr4kJ0",
        "colab_type": "code",
        "colab": {
          "base_uri": "https://localhost:8080/",
          "height": 71
        },
        "outputId": "b7b06213-13b4-4710-e4a4-3757a8cce004"
      },
      "cell_type": "code",
      "source": [
        "modelKNNSTD = KNeighborsClassifier(n_neighbors=1)\n",
        "modelKNNSTD.fit(X_train_std, trainLabels)"
      ],
      "execution_count": 250,
      "outputs": [
        {
          "output_type": "execute_result",
          "data": {
            "text/plain": [
              "KNeighborsClassifier(algorithm='auto', leaf_size=30, metric='minkowski',\n",
              "           metric_params=None, n_jobs=None, n_neighbors=1, p=2,\n",
              "           weights='uniform')"
            ]
          },
          "metadata": {
            "tags": []
          },
          "execution_count": 250
        }
      ]
    },
    {
      "metadata": {
        "id": "EOqEIXYBrR0s",
        "colab_type": "code",
        "colab": {
          "base_uri": "https://localhost:8080/",
          "height": 124
        },
        "outputId": "2139a722-f07a-4a55-ea3d-73ab0358c4db"
      },
      "cell_type": "code",
      "source": [
        "modelArbol = DecisionTreeClassifier(min_samples_split=10)\n",
        "modelArbol.fit(trainData, trainLabels)"
      ],
      "execution_count": 235,
      "outputs": [
        {
          "output_type": "execute_result",
          "data": {
            "text/plain": [
              "DecisionTreeClassifier(class_weight=None, criterion='gini', max_depth=None,\n",
              "            max_features=None, max_leaf_nodes=None,\n",
              "            min_impurity_decrease=0.0, min_impurity_split=None,\n",
              "            min_samples_leaf=1, min_samples_split=10,\n",
              "            min_weight_fraction_leaf=0.0, presort=False, random_state=None,\n",
              "            splitter='best')"
            ]
          },
          "metadata": {
            "tags": []
          },
          "execution_count": 235
        }
      ]
    },
    {
      "metadata": {
        "id": "HRQRFHIu4yoD",
        "colab_type": "code",
        "colab": {
          "base_uri": "https://localhost:8080/",
          "height": 124
        },
        "outputId": "a67bce65-7609-47fd-c8f2-3c9d67225be7"
      },
      "cell_type": "code",
      "source": [
        "modelArbolNorm = DecisionTreeClassifier(min_samples_split=2)\n",
        "modelArbolNorm.fit(X_train_norm, trainLabels)"
      ],
      "execution_count": 237,
      "outputs": [
        {
          "output_type": "execute_result",
          "data": {
            "text/plain": [
              "DecisionTreeClassifier(class_weight=None, criterion='gini', max_depth=None,\n",
              "            max_features=None, max_leaf_nodes=None,\n",
              "            min_impurity_decrease=0.0, min_impurity_split=None,\n",
              "            min_samples_leaf=1, min_samples_split=2,\n",
              "            min_weight_fraction_leaf=0.0, presort=False, random_state=None,\n",
              "            splitter='best')"
            ]
          },
          "metadata": {
            "tags": []
          },
          "execution_count": 237
        }
      ]
    },
    {
      "metadata": {
        "id": "T3uvpjDp4yec",
        "colab_type": "code",
        "colab": {
          "base_uri": "https://localhost:8080/",
          "height": 124
        },
        "outputId": "100b5281-485e-458e-b1e1-327de0b593e5"
      },
      "cell_type": "code",
      "source": [
        "modelArbolSTD = DecisionTreeClassifier(min_samples_split=2)\n",
        "modelArbolSTD.fit(X_train_std, trainLabels)"
      ],
      "execution_count": 238,
      "outputs": [
        {
          "output_type": "execute_result",
          "data": {
            "text/plain": [
              "DecisionTreeClassifier(class_weight=None, criterion='gini', max_depth=None,\n",
              "            max_features=None, max_leaf_nodes=None,\n",
              "            min_impurity_decrease=0.0, min_impurity_split=None,\n",
              "            min_samples_leaf=1, min_samples_split=2,\n",
              "            min_weight_fraction_leaf=0.0, presort=False, random_state=None,\n",
              "            splitter='best')"
            ]
          },
          "metadata": {
            "tags": []
          },
          "execution_count": 238
        }
      ]
    },
    {
      "metadata": {
        "id": "J3swFrwwrZez",
        "colab_type": "code",
        "colab": {
          "base_uri": "https://localhost:8080/",
          "height": 88
        },
        "outputId": "5320f0c5-cdcc-44a0-f0f9-974b71bc88aa"
      },
      "cell_type": "code",
      "source": [
        "modelLR = LogisticRegression(C=1000)\n",
        "modelLR.fit(trainData, trainLabels)"
      ],
      "execution_count": 187,
      "outputs": [
        {
          "output_type": "execute_result",
          "data": {
            "text/plain": [
              "LogisticRegression(C=1000, class_weight=None, dual=False, fit_intercept=True,\n",
              "          intercept_scaling=1, max_iter=100, multi_class='warn',\n",
              "          n_jobs=None, penalty='l2', random_state=None, solver='warn',\n",
              "          tol=0.0001, verbose=0, warm_start=False)"
            ]
          },
          "metadata": {
            "tags": []
          },
          "execution_count": 187
        }
      ]
    },
    {
      "metadata": {
        "id": "_d4XERjv5Hef",
        "colab_type": "code",
        "colab": {
          "base_uri": "https://localhost:8080/",
          "height": 88
        },
        "outputId": "a42ea022-1b5e-49ed-dc6c-57e392ae9229"
      },
      "cell_type": "code",
      "source": [
        "modelLRNorm = LogisticRegression(C=1)\n",
        "modelLRNorm.fit(X_train_norm, trainLabels)"
      ],
      "execution_count": 239,
      "outputs": [
        {
          "output_type": "execute_result",
          "data": {
            "text/plain": [
              "LogisticRegression(C=1, class_weight=None, dual=False, fit_intercept=True,\n",
              "          intercept_scaling=1, max_iter=100, multi_class='warn',\n",
              "          n_jobs=None, penalty='l2', random_state=None, solver='warn',\n",
              "          tol=0.0001, verbose=0, warm_start=False)"
            ]
          },
          "metadata": {
            "tags": []
          },
          "execution_count": 239
        }
      ]
    },
    {
      "metadata": {
        "id": "9ZB3Lpqx5HU3",
        "colab_type": "code",
        "colab": {
          "base_uri": "https://localhost:8080/",
          "height": 88
        },
        "outputId": "2427310c-9d1f-4a68-f5c4-b58a821f935a"
      },
      "cell_type": "code",
      "source": [
        "modelLRSTD = LogisticRegression(C=1)\n",
        "modelLRSTD.fit(, trainLabels)"
      ],
      "execution_count": 240,
      "outputs": [
        {
          "output_type": "execute_result",
          "data": {
            "text/plain": [
              "LogisticRegression(C=1, class_weight=None, dual=False, fit_intercept=True,\n",
              "          intercept_scaling=1, max_iter=100, multi_class='warn',\n",
              "          n_jobs=None, penalty='l2', random_state=None, solver='warn',\n",
              "          tol=0.0001, verbose=0, warm_start=False)"
            ]
          },
          "metadata": {
            "tags": []
          },
          "execution_count": 240
        }
      ]
    },
    {
      "metadata": {
        "id": "VdWQ5qO0rc9W",
        "colab_type": "code",
        "colab": {
          "base_uri": "https://localhost:8080/",
          "height": 88
        },
        "outputId": "de83e0e7-9370-4d70-9e97-4d3bf9950b74"
      },
      "cell_type": "code",
      "source": [
        "modelSVC = SVC()\n",
        "modelSVC.fit(trainData, trainLabels)"
      ],
      "execution_count": 188,
      "outputs": [
        {
          "output_type": "execute_result",
          "data": {
            "text/plain": [
              "SVC(C=1.0, cache_size=200, class_weight=None, coef0=0.0,\n",
              "  decision_function_shape='ovr', degree=3, gamma='auto_deprecated',\n",
              "  kernel='rbf', max_iter=-1, probability=False, random_state=None,\n",
              "  shrinking=True, tol=0.001, verbose=False)"
            ]
          },
          "metadata": {
            "tags": []
          },
          "execution_count": 188
        }
      ]
    },
    {
      "metadata": {
        "id": "xnacucT6rd6G",
        "colab_type": "code",
        "colab": {
          "base_uri": "https://localhost:8080/",
          "height": 142
        },
        "outputId": "61104e2e-46c6-4a98-eb5b-32154904a6b4"
      },
      "cell_type": "code",
      "source": [
        "modelRN = MLPClassifier(momentum= 0.9, \n",
        "                        learning_rate_init= 0.1, \n",
        "                        hidden_layer_sizes=(5, 3, 2), \n",
        "                        activation= 'identity')\n",
        "modelRN.fit(trainData, trainLabels)"
      ],
      "execution_count": 206,
      "outputs": [
        {
          "output_type": "execute_result",
          "data": {
            "text/plain": [
              "MLPClassifier(activation='identity', alpha=0.0001, batch_size='auto',\n",
              "       beta_1=0.9, beta_2=0.999, early_stopping=False, epsilon=1e-08,\n",
              "       hidden_layer_sizes=(5, 3, 2), learning_rate='constant',\n",
              "       learning_rate_init=0.1, max_iter=200, momentum=0.9,\n",
              "       n_iter_no_change=10, nesterovs_momentum=True, power_t=0.5,\n",
              "       random_state=None, shuffle=True, solver='adam', tol=0.0001,\n",
              "       validation_fraction=0.1, verbose=False, warm_start=False)"
            ]
          },
          "metadata": {
            "tags": []
          },
          "execution_count": 206
        }
      ]
    },
    {
      "metadata": {
        "id": "iitwr2ES5Wrt",
        "colab_type": "code",
        "colab": {
          "base_uri": "https://localhost:8080/",
          "height": 142
        },
        "outputId": "b6de0e30-642c-41e7-d0fb-91a824a14cc0"
      },
      "cell_type": "code",
      "source": [
        "modelRNNorm = MLPClassifier(momentum= 0.9, \n",
        "                        learning_rate_init= 0.001, \n",
        "                        hidden_layer_sizes=(3, 3, 3), \n",
        "                        activation= 'logistic')\n",
        "modelRNNorm.fit(X_train_norm, trainLabels)"
      ],
      "execution_count": 241,
      "outputs": [
        {
          "output_type": "execute_result",
          "data": {
            "text/plain": [
              "MLPClassifier(activation='logistic', alpha=0.0001, batch_size='auto',\n",
              "       beta_1=0.9, beta_2=0.999, early_stopping=False, epsilon=1e-08,\n",
              "       hidden_layer_sizes=(3, 3, 3), learning_rate='constant',\n",
              "       learning_rate_init=0.001, max_iter=200, momentum=0.9,\n",
              "       n_iter_no_change=10, nesterovs_momentum=True, power_t=0.5,\n",
              "       random_state=None, shuffle=True, solver='adam', tol=0.0001,\n",
              "       validation_fraction=0.1, verbose=False, warm_start=False)"
            ]
          },
          "metadata": {
            "tags": []
          },
          "execution_count": 241
        }
      ]
    },
    {
      "metadata": {
        "id": "3-kmTNb15Whw",
        "colab_type": "code",
        "colab": {
          "base_uri": "https://localhost:8080/",
          "height": 142
        },
        "outputId": "b87d71e9-d31a-4858-8213-1d2ef21b4d39"
      },
      "cell_type": "code",
      "source": [
        "modelRNSTD = MLPClassifier(momentum= 0.9, \n",
        "                        learning_rate_init= 0.001, \n",
        "                        hidden_layer_sizes=(5, 4, 3, 2), \n",
        "                        activation= 'relu')\n",
        "modelRNSTD.fit(X_train_std, trainLabels)"
      ],
      "execution_count": 242,
      "outputs": [
        {
          "output_type": "execute_result",
          "data": {
            "text/plain": [
              "MLPClassifier(activation='relu', alpha=0.0001, batch_size='auto', beta_1=0.9,\n",
              "       beta_2=0.999, early_stopping=False, epsilon=1e-08,\n",
              "       hidden_layer_sizes=(5, 4, 3, 2), learning_rate='constant',\n",
              "       learning_rate_init=0.001, max_iter=200, momentum=0.9,\n",
              "       n_iter_no_change=10, nesterovs_momentum=True, power_t=0.5,\n",
              "       random_state=None, shuffle=True, solver='adam', tol=0.0001,\n",
              "       validation_fraction=0.1, verbose=False, warm_start=False)"
            ]
          },
          "metadata": {
            "tags": []
          },
          "execution_count": 242
        }
      ]
    },
    {
      "metadata": {
        "id": "GLS46_xHrnK6",
        "colab_type": "code",
        "colab": {
          "base_uri": "https://localhost:8080/",
          "height": 196
        },
        "outputId": "b982236b-a977-483e-8907-5871f303aca5"
      },
      "cell_type": "code",
      "source": [
        "from sklearn.metrics import classification_report\n",
        "\n",
        "print(\"EVALUACIÓN EN CONJUNTO DE TEST USANDO KNN\")\n",
        "predictionsKNN = modelKNN.predict(testData)\n",
        "print(classification_report(testLabels, predictionsKNN))"
      ],
      "execution_count": 190,
      "outputs": [
        {
          "output_type": "stream",
          "text": [
            "EVALUACIÓN EN CONJUNTO DE TEST USANDO KNN\n",
            "              precision    recall  f1-score   support\n",
            "\n",
            "         0.0       0.70      0.84      0.76        62\n",
            "         1.0       0.29      0.15      0.20        26\n",
            "\n",
            "   micro avg       0.64      0.64      0.64        88\n",
            "   macro avg       0.49      0.50      0.48        88\n",
            "weighted avg       0.58      0.64      0.60        88\n",
            "\n"
          ],
          "name": "stdout"
        }
      ]
    },
    {
      "metadata": {
        "id": "jvZrCU3G7pig",
        "colab_type": "code",
        "colab": {
          "base_uri": "https://localhost:8080/",
          "height": 196
        },
        "outputId": "aba79502-35c1-4e39-9947-a7e945fab98f"
      },
      "cell_type": "code",
      "source": [
        "from sklearn.metrics import classification_report\n",
        "\n",
        "print(\"EVALUACIÓN EN CONJUNTO DE TEST USANDO KNN\")\n",
        "predictionsKNN = modelKNNNorm.predict(X_test_norm)\n",
        "print(classification_report(testLabels, predictionsKNN))"
      ],
      "execution_count": 251,
      "outputs": [
        {
          "output_type": "stream",
          "text": [
            "EVALUACIÓN EN CONJUNTO DE TEST USANDO KNN\n",
            "              precision    recall  f1-score   support\n",
            "\n",
            "         0.0       0.80      0.71      0.75        62\n",
            "         1.0       0.45      0.58      0.51        26\n",
            "\n",
            "   micro avg       0.67      0.67      0.67        88\n",
            "   macro avg       0.63      0.64      0.63        88\n",
            "weighted avg       0.70      0.67      0.68        88\n",
            "\n"
          ],
          "name": "stdout"
        }
      ]
    },
    {
      "metadata": {
        "id": "BT4MSMo_8Qu2",
        "colab_type": "code",
        "colab": {
          "base_uri": "https://localhost:8080/",
          "height": 196
        },
        "outputId": "d70d9bd0-c30e-4768-8a05-121c10601075"
      },
      "cell_type": "code",
      "source": [
        "from sklearn.metrics import classification_report\n",
        "\n",
        "print(\"EVALUACIÓN EN CONJUNTO DE TEST USANDO KNN\")\n",
        "predictionsKNN = modelKNNSTD.predict(X_test_std)\n",
        "print(classification_report(testLabels, predictionsKNN))"
      ],
      "execution_count": 252,
      "outputs": [
        {
          "output_type": "stream",
          "text": [
            "EVALUACIÓN EN CONJUNTO DE TEST USANDO KNN\n",
            "              precision    recall  f1-score   support\n",
            "\n",
            "         0.0       0.81      0.76      0.78        62\n",
            "         1.0       0.50      0.58      0.54        26\n",
            "\n",
            "   micro avg       0.70      0.70      0.70        88\n",
            "   macro avg       0.66      0.67      0.66        88\n",
            "weighted avg       0.72      0.70      0.71        88\n",
            "\n"
          ],
          "name": "stdout"
        }
      ]
    },
    {
      "metadata": {
        "id": "ORZ4SuhVroMn",
        "colab_type": "code",
        "colab": {
          "base_uri": "https://localhost:8080/",
          "height": 196
        },
        "outputId": "9f9d85a4-2b34-438e-e5fa-55f0035ced02"
      },
      "cell_type": "code",
      "source": [
        "print(\"EVALUACIÓN EN CONJUNTO DE TEST USANDO Árboles de decisión\")\n",
        "predictionsArbol = modelArbol.predict(testData)\n",
        "print(classification_report(testLabels, predictionsArbol))"
      ],
      "execution_count": 191,
      "outputs": [
        {
          "output_type": "stream",
          "text": [
            "EVALUACIÓN EN CONJUNTO DE TEST USANDO Árboles de decisión\n",
            "              precision    recall  f1-score   support\n",
            "\n",
            "         0.0       0.72      0.66      0.69        62\n",
            "         1.0       0.32      0.38      0.35        26\n",
            "\n",
            "   micro avg       0.58      0.58      0.58        88\n",
            "   macro avg       0.52      0.52      0.52        88\n",
            "weighted avg       0.60      0.58      0.59        88\n",
            "\n"
          ],
          "name": "stdout"
        }
      ]
    },
    {
      "metadata": {
        "id": "8GCpZkxS9ZSq",
        "colab_type": "code",
        "colab": {
          "base_uri": "https://localhost:8080/",
          "height": 196
        },
        "outputId": "7771a265-5e4c-4aa4-f325-724809c3bcbe"
      },
      "cell_type": "code",
      "source": [
        "print(\"EVALUACIÓN EN CONJUNTO DE TEST USANDO Árboles de decisión\")\n",
        "predictionsArbol = modelArbolNorm.predict(X_test_norm)\n",
        "print(classification_report(testLabels, predictionsArbol))"
      ],
      "execution_count": 253,
      "outputs": [
        {
          "output_type": "stream",
          "text": [
            "EVALUACIÓN EN CONJUNTO DE TEST USANDO Árboles de decisión\n",
            "              precision    recall  f1-score   support\n",
            "\n",
            "         0.0       0.72      0.66      0.69        62\n",
            "         1.0       0.32      0.38      0.35        26\n",
            "\n",
            "   micro avg       0.58      0.58      0.58        88\n",
            "   macro avg       0.52      0.52      0.52        88\n",
            "weighted avg       0.60      0.58      0.59        88\n",
            "\n"
          ],
          "name": "stdout"
        }
      ]
    },
    {
      "metadata": {
        "id": "XviWHUo09ZJv",
        "colab_type": "code",
        "colab": {
          "base_uri": "https://localhost:8080/",
          "height": 196
        },
        "outputId": "0aabefa1-2cdf-4a56-fc5e-3f4427a01f68"
      },
      "cell_type": "code",
      "source": [
        "print(\"EVALUACIÓN EN CONJUNTO DE TEST USANDO Árboles de decisión\")\n",
        "predictionsArbol = modelArbolSTD.predict(X_test_std)\n",
        "print(classification_report(testLabels, predictionsArbol))"
      ],
      "execution_count": 254,
      "outputs": [
        {
          "output_type": "stream",
          "text": [
            "EVALUACIÓN EN CONJUNTO DE TEST USANDO Árboles de decisión\n",
            "              precision    recall  f1-score   support\n",
            "\n",
            "         0.0       0.73      0.69      0.71        62\n",
            "         1.0       0.34      0.38      0.36        26\n",
            "\n",
            "   micro avg       0.60      0.60      0.60        88\n",
            "   macro avg       0.54      0.54      0.54        88\n",
            "weighted avg       0.62      0.60      0.61        88\n",
            "\n"
          ],
          "name": "stdout"
        }
      ]
    },
    {
      "metadata": {
        "id": "eKZ9emn0rpGz",
        "colab_type": "code",
        "colab": {
          "base_uri": "https://localhost:8080/",
          "height": 196
        },
        "outputId": "481758d5-2003-4b53-9508-943aa8008ea4"
      },
      "cell_type": "code",
      "source": [
        "print(\"EVALUACIÓN EN CONJUNTO DE TEST USANDO Regresión Logística\")\n",
        "predictionsRL = modelLR.predict(testData)\n",
        "print(classification_report(testLabels, predictionsRL))"
      ],
      "execution_count": 192,
      "outputs": [
        {
          "output_type": "stream",
          "text": [
            "EVALUACIÓN EN CONJUNTO DE TEST USANDO Regresión Logística\n",
            "              precision    recall  f1-score   support\n",
            "\n",
            "         0.0       0.74      0.89      0.81        62\n",
            "         1.0       0.50      0.27      0.35        26\n",
            "\n",
            "   micro avg       0.70      0.70      0.70        88\n",
            "   macro avg       0.62      0.58      0.58        88\n",
            "weighted avg       0.67      0.70      0.67        88\n",
            "\n"
          ],
          "name": "stdout"
        }
      ]
    },
    {
      "metadata": {
        "id": "jQgUOp4xrqD3",
        "colab_type": "code",
        "colab": {
          "base_uri": "https://localhost:8080/",
          "height": 196
        },
        "outputId": "b961e98e-0e87-4867-f972-72cf0c035e55"
      },
      "cell_type": "code",
      "source": [
        "print(\"EVALUACIÓN EN CONJUNTO DE TEST USANDO SVC\")\n",
        "predictionsSVC = modelSVC.predict(testData)\n",
        "print(classification_report(testLabels, predictionsSVC))"
      ],
      "execution_count": 193,
      "outputs": [
        {
          "output_type": "stream",
          "text": [
            "EVALUACIÓN EN CONJUNTO DE TEST USANDO SVC\n",
            "              precision    recall  f1-score   support\n",
            "\n",
            "         0.0       0.70      1.00      0.83        62\n",
            "         1.0       0.00      0.00      0.00        26\n",
            "\n",
            "   micro avg       0.70      0.70      0.70        88\n",
            "   macro avg       0.35      0.50      0.41        88\n",
            "weighted avg       0.50      0.70      0.58        88\n",
            "\n"
          ],
          "name": "stdout"
        }
      ]
    },
    {
      "metadata": {
        "id": "F0Xcwp2ur0Ui",
        "colab_type": "code",
        "colab": {
          "base_uri": "https://localhost:8080/",
          "height": 196
        },
        "outputId": "0e001ca5-1820-446f-c3c8-d9465af30d37"
      },
      "cell_type": "code",
      "source": [
        "print(\"EVALUACIÓN EN CONJUNTO DE TEST USANDO Redes Neuronales\")\n",
        "predictionsRN = modelRN.predict(testData)\n",
        "print(classification_report(testLabels, predictionsRN))"
      ],
      "execution_count": 207,
      "outputs": [
        {
          "output_type": "stream",
          "text": [
            "EVALUACIÓN EN CONJUNTO DE TEST USANDO Redes Neuronales\n",
            "              precision    recall  f1-score   support\n",
            "\n",
            "         0.0       0.76      0.92      0.83        62\n",
            "         1.0       0.62      0.31      0.41        26\n",
            "\n",
            "   micro avg       0.74      0.74      0.74        88\n",
            "   macro avg       0.69      0.61      0.62        88\n",
            "weighted avg       0.72      0.74      0.71        88\n",
            "\n"
          ],
          "name": "stdout"
        }
      ]
    },
    {
      "metadata": {
        "id": "piHW5XK--RAP",
        "colab_type": "code",
        "colab": {
          "base_uri": "https://localhost:8080/",
          "height": 196
        },
        "outputId": "e19c303b-1aac-4a83-b261-22a36e34e434"
      },
      "cell_type": "code",
      "source": [
        "print(\"EVALUACIÓN EN CONJUNTO DE TEST USANDO Redes Neuronales\")\n",
        "predictionsRN = modelRNNorm.predict(X_test_norm)\n",
        "print(classification_report(testLabels, predictionsRN))"
      ],
      "execution_count": 255,
      "outputs": [
        {
          "output_type": "stream",
          "text": [
            "EVALUACIÓN EN CONJUNTO DE TEST USANDO Redes Neuronales\n",
            "              precision    recall  f1-score   support\n",
            "\n",
            "         0.0       0.70      1.00      0.83        62\n",
            "         1.0       0.00      0.00      0.00        26\n",
            "\n",
            "   micro avg       0.70      0.70      0.70        88\n",
            "   macro avg       0.35      0.50      0.41        88\n",
            "weighted avg       0.50      0.70      0.58        88\n",
            "\n"
          ],
          "name": "stdout"
        }
      ]
    },
    {
      "metadata": {
        "id": "GTzDaU0O-Q2m",
        "colab_type": "code",
        "colab": {
          "base_uri": "https://localhost:8080/",
          "height": 196
        },
        "outputId": "5606495a-fdd0-408a-f9e8-0257a0ba2b60"
      },
      "cell_type": "code",
      "source": [
        "print(\"EVALUACIÓN EN CONJUNTO DE TEST USANDO Redes Neuronales\")\n",
        "predictionsRN = modelRNSTD.predict(X_test_std)\n",
        "print(classification_report(testLabels, predictionsRN))"
      ],
      "execution_count": 256,
      "outputs": [
        {
          "output_type": "stream",
          "text": [
            "EVALUACIÓN EN CONJUNTO DE TEST USANDO Redes Neuronales\n",
            "              precision    recall  f1-score   support\n",
            "\n",
            "         0.0       0.70      1.00      0.83        62\n",
            "         1.0       0.00      0.00      0.00        26\n",
            "\n",
            "   micro avg       0.70      0.70      0.70        88\n",
            "   macro avg       0.35      0.50      0.41        88\n",
            "weighted avg       0.50      0.70      0.58        88\n",
            "\n"
          ],
          "name": "stdout"
        }
      ]
    },
    {
      "metadata": {
        "id": "jaTB104MsF7G",
        "colab_type": "code",
        "colab": {
          "base_uri": "https://localhost:8080/",
          "height": 35
        },
        "outputId": "630ebd8e-d1be-4c30-ec0a-3df077c3f8ac"
      },
      "cell_type": "code",
      "source": [
        "!pip install StatisticalAnalysis"
      ],
      "execution_count": 195,
      "outputs": [
        {
          "output_type": "stream",
          "text": [
            "Requirement already satisfied: StatisticalAnalysis in /usr/local/lib/python3.6/dist-packages (0.0.4)\n"
          ],
          "name": "stdout"
        }
      ]
    },
    {
      "metadata": {
        "id": "EnbSePt0sIE8",
        "colab_type": "code",
        "colab": {}
      },
      "cell_type": "code",
      "source": [
        "from StatisticalAnalysis import compare_methods"
      ],
      "execution_count": 0,
      "outputs": []
    },
    {
      "metadata": {
        "id": "HBhhaPBksJ4h",
        "colab_type": "code",
        "colab": {}
      },
      "cell_type": "code",
      "source": [
        "# Árbol de decisión\n",
        "clfTree = DecisionTreeClassifier(random_state=84)\n",
        "param_distTree = {\"min_samples_split\": sp_randint(3, 30)}\n",
        "# SVM\n",
        "clfSVC = SVC(random_state=84)\n",
        "param_distSVC = {'C': [1, 10, 100, 1000], 'gamma': [0.001, 0.0001],'kernel': ['rbf'], 'class_weight':['balanced', None]}\n",
        "# KNN\n",
        "clfKNN = KNeighborsClassifier()\n",
        "param_distKNN = {'n_neighbors':sp_randint(3, 30)}\n",
        "# Regresión logística\n",
        "clfLR = LogisticRegression(random_state=84)\n",
        "param_distLR = {'C': [0.1,0.5,1, 10, 100, 1000]}\n",
        "# Red neuronal\n",
        "clfMLP = MLPClassifier(random_state=84)\n",
        "param_distMLP = {'activation': ['identity', 'logistic', 'tanh', 'relu'], 'solver': ['lbfgs', 'sgd', 'adam'],\n",
        "                 'alpha': sp_randint(0.0001, 1), 'learning_rate': ['constant', 'invscaling', 'adaptive'],\n",
        "                 'hidden_layer_sizes': [(5,2), (3,3,3), (5,3,2), (5,4,3,2)],\n",
        "                 'momentum': [0.9, 0.95, 0.99]}"
      ],
      "execution_count": 0,
      "outputs": []
    },
    {
      "metadata": {
        "id": "2JRO-WC0sLD6",
        "colab_type": "code",
        "colab": {}
      },
      "cell_type": "code",
      "source": [
        "listAlgorithms = [clfTree,clfSVC,clfKNN,clfLR,clfMLP]"
      ],
      "execution_count": 0,
      "outputs": []
    },
    {
      "metadata": {
        "id": "eXR-sPQusMKk",
        "colab_type": "code",
        "colab": {}
      },
      "cell_type": "code",
      "source": [
        "listParams = [param_distTree,param_distSVC,param_distKNN,param_distLR,param_distMLP]"
      ],
      "execution_count": 0,
      "outputs": []
    },
    {
      "metadata": {
        "id": "bt_qlmeasNJE",
        "colab_type": "code",
        "colab": {}
      },
      "cell_type": "code",
      "source": [
        "listNames = [\"Arbol\", \"SVM\", \"KNN\", \"LR\", \"MLP\"]"
      ],
      "execution_count": 0,
      "outputs": []
    },
    {
      "metadata": {
        "id": "VjvTTUPQsN_S",
        "colab_type": "code",
        "colab": {
          "base_uri": "https://localhost:8080/",
          "height": 1350
        },
        "outputId": "5891ddfe-3e6e-460d-8414-603f8d3e379f"
      },
      "cell_type": "code",
      "source": [
        "compare_methods(X,Y,listAlgorithms,listParams,listNames,metric='auroc')"
      ],
      "execution_count": 208,
      "outputs": [
        {
          "output_type": "stream",
          "text": [
            "temp.csv\n",
            "['Arbol' 'SVM' 'KNN' 'LR' 'MLP']\n",
            "==========================================================\n",
            "Report\n",
            "==========================================================\n",
            "**********************************************************\n",
            "Mean and std\n",
            "**********************************************************\n",
            "Arbol: 0.594839 (0.048297)\n",
            "SVM: 0.509876 (0.019596)\n",
            "KNN: 0.569234 (0.064517)\n",
            "LR: 0.511851 (0.045012)\n",
            "MLP: 0.504228 (0.018905)\n",
            "**********************************************************\n",
            "Statistical tests\n",
            "**********************************************************\n",
            "----------------------------------------------------------\n",
            "Checking parametric conditions \n",
            "----------------------------------------------------------\n",
            "Checking independence \n",
            "Ok\n",
            "Checking normality using Shapiro-Wilk's test for normality, alpha=0.05\n",
            "W: 0.911837, p:0.001210\n",
            "The null hypothesis (normality) is rejected\n",
            "Checking heteroscedasticity using Levene's test, alpha=0.05\n",
            "W: 5.101856, p:0.001778\n",
            "The null hypothesis (heteroscedasticity) is rejected\n",
            "Conditions for a parametric test are not fulfilled, applying a non-parametric test\n",
            "----------------------------------------------------------\n",
            "Working with more than 2 algorithms\n",
            "----------------------------------------------------------\n",
            "----------------------------------------------------------\n",
            "Applying Friedman test\n",
            "----------------------------------------------------------\n",
            "F-value: 7.574586, p-value: 0.00015538546181326218\n",
            "Null hypothesis is rejected; hence, models have different performance\n",
            "Technique      Ranking\n",
            "-----------  ---------\n",
            "Arbol             4.45\n",
            "KNN               3.8\n",
            "LR                2.55\n",
            "SVM               2.15\n",
            "MLP               2.05\n",
            "Winner model: Arbol\n",
            "----------------------------------------------------------\n",
            "Applying Holm p-value adjustment procedure and analysing effect size\n",
            "----------------------------------------------------------\n",
            "Comparison      Zvalue      p-value    adjusted p-value\n",
            "------------  --------  -----------  ------------------\n",
            "Arbol vs MLP  3.39411   0.000688514          0.00275406\n",
            "Arbol vs SVM  3.25269   0.00114318           0.00342953\n",
            "Arbol vs LR   2.68701   0.00720957           0.0144191\n",
            "Arbol vs KNN  0.919239  0.357971             0.357971\n",
            "There is a significant difference between the models: Arbol (mean: 0.594839, std: 0.048297) and MLP (mean: 0.504228, std: 0.018905) (Cohen's d=2.3439116668252775, Large)\n",
            "There is a significant difference between the models: Arbol (mean: 0.594839, std: 0.048297) and SVM (mean: 0.509876, std: 0.019596) (Cohen's d=2.187030645724109, Large)\n",
            "There is a significant difference between the models: Arbol (mean: 0.594839, std: 0.048297) and LR (mean: 0.511851, std: 0.045012) (Cohen's d=1.6864606112798686, Large)\n",
            "There is a significant difference between the models: Arbol (mean: 0.594839, std: 0.048297) and KNN (mean: 0.569234, std: 0.064517) (Cohen's d=0.42626426472096174, Medium)\n",
            "Eta squared: 0.424118 (Large)\n"
          ],
          "name": "stdout"
        },
        {
          "output_type": "display_data",
          "data": {
            "image/png": "[encoded data removed]",
            "text/plain": [
              "<Figure size 432x288 with 1 Axes>"
            ]
          },
          "metadata": {
            "tags": []
          }
        }
      ]
    },
    {
      "metadata": {
        "id": "BNFNoq5M579l",
        "colab_type": "code",
        "colab": {
          "base_uri": "https://localhost:8080/",
          "height": 1118
        },
        "outputId": "5c1e3859-e8cd-4698-b872-64af806d29dd"
      },
      "cell_type": "code",
      "source": [
        "compare_methods(X_train_norm,Y,listAlgorithms,listParams,listNames,metric='auroc')"
      ],
      "execution_count": 243,
      "outputs": [
        {
          "output_type": "stream",
          "text": [
            "temp.csv\n",
            "['Arbol' 'SVM' 'KNN' 'LR' 'MLP']\n",
            "==========================================================\n",
            "Report\n",
            "==========================================================\n",
            "**********************************************************\n",
            "Mean and std\n",
            "**********************************************************\n",
            "Arbol: 0.496191 (0.061304)\n",
            "SVM: 0.500000 (0.000000)\n",
            "KNN: 0.510789 (0.017612)\n",
            "LR: 0.500000 (0.000000)\n",
            "MLP: 0.500000 (0.000000)\n",
            "**********************************************************\n",
            "Statistical tests\n",
            "**********************************************************\n",
            "----------------------------------------------------------\n",
            "Checking parametric conditions \n",
            "----------------------------------------------------------\n",
            "Checking independence \n",
            "Ok\n",
            "Checking normality using Shapiro-Wilk's test for normality, alpha=0.05\n",
            "W: 0.683982, p:0.000000\n",
            "The null hypothesis (normality) is rejected\n",
            "Checking heteroscedasticity using Levene's test, alpha=0.05\n",
            "W: 16.327591, p:0.000000\n",
            "The null hypothesis (heteroscedasticity) is rejected\n",
            "Conditions for a parametric test are not fulfilled, applying a non-parametric test\n",
            "----------------------------------------------------------\n",
            "Working with more than 2 algorithms\n",
            "----------------------------------------------------------\n",
            "----------------------------------------------------------\n",
            "Applying Friedman test\n",
            "----------------------------------------------------------\n",
            "F-value: 0.443861, p-value: 0.7760753835072378\n",
            "Null hypothesis is accepted; hence, we can't say that there is a significant difference in the performance of the models\n",
            "----------------------------------------------------------\n",
            "Analysing effect size\n",
            "----------------------------------------------------------\n",
            "We take the model with the best mean (KNN, mean: 0.510789) and compare it with the other models: \n",
            "Comparing effect size of KNN and Arbol: Cohen's d=0.30705062091724017, Medium\n",
            "Comparing effect size of KNN and SVM: Cohen's d=0.8218862389536176, Large\n",
            "Comparing effect size of KNN and LR: Cohen's d=0.8218862389536176, Large\n",
            "Comparing effect size of KNN and MLP: Cohen's d=0.8218862389536176, Large\n",
            "Eta squared: 0.028921 (Medium)\n"
          ],
          "name": "stdout"
        },
        {
          "output_type": "display_data",
          "data": {
            "image/png": "[encoded data removed]",
            "text/plain": [
              "<Figure size 432x288 with 1 Axes>"
            ]
          },
          "metadata": {
            "tags": []
          }
        }
      ]
    },
    {
      "metadata": {
        "id": "N7UmepeB57zu",
        "colab_type": "code",
        "colab": {
          "base_uri": "https://localhost:8080/",
          "height": 1118
        },
        "outputId": "27818669-eca9-4e27-b5f3-2fd4905c3906"
      },
      "cell_type": "code",
      "source": [
        "compare_methods(X_train_std,Y,listAlgorithms,listParams,listNames,metric='auroc')"
      ],
      "execution_count": 244,
      "outputs": [
        {
          "output_type": "stream",
          "text": [
            "temp.csv\n",
            "['Arbol' 'SVM' 'KNN' 'LR' 'MLP']\n",
            "==========================================================\n",
            "Report\n",
            "==========================================================\n",
            "**********************************************************\n",
            "Mean and std\n",
            "**********************************************************\n",
            "Arbol: 0.496191 (0.061304)\n",
            "SVM: 0.500000 (0.000000)\n",
            "KNN: 0.521272 (0.028697)\n",
            "LR: 0.496296 (0.011111)\n",
            "MLP: 0.500000 (0.000000)\n",
            "**********************************************************\n",
            "Statistical tests\n",
            "**********************************************************\n",
            "----------------------------------------------------------\n",
            "Checking parametric conditions \n",
            "----------------------------------------------------------\n",
            "Checking independence \n",
            "Ok\n",
            "Checking normality using Shapiro-Wilk's test for normality, alpha=0.05\n",
            "W: 0.771143, p:0.000000\n",
            "The null hypothesis (normality) is rejected\n",
            "Checking heteroscedasticity using Levene's test, alpha=0.05\n",
            "W: 14.890823, p:0.000000\n",
            "The null hypothesis (heteroscedasticity) is rejected\n",
            "Conditions for a parametric test are not fulfilled, applying a non-parametric test\n",
            "----------------------------------------------------------\n",
            "Working with more than 2 algorithms\n",
            "----------------------------------------------------------\n",
            "----------------------------------------------------------\n",
            "Applying Friedman test\n",
            "----------------------------------------------------------\n",
            "F-value: 0.672219, p-value: 0.6155598560292197\n",
            "Null hypothesis is accepted; hence, we can't say that there is a significant difference in the performance of the models\n",
            "----------------------------------------------------------\n",
            "Analysing effect size\n",
            "----------------------------------------------------------\n",
            "We take the model with the best mean (KNN, mean: 0.521272) and compare it with the other models: \n",
            "Comparing effect size of KNN and Arbol: Cohen's d=0.4971183801665086, Medium\n",
            "Comparing effect size of KNN and SVM: Cohen's d=0.9945092643873915, Large\n",
            "Comparing effect size of KNN and LR: Cohen's d=1.0888938129760986, Large\n",
            "Comparing effect size of KNN and MLP: Cohen's d=0.9945092643873915, Large\n",
            "Eta squared: 0.086024 (Large)\n"
          ],
          "name": "stdout"
        },
        {
          "output_type": "display_data",
          "data": {
            "image/png": "[encoded data removed]",
            "text/plain": [
              "<Figure size 432x288 with 1 Axes>"
            ]
          },
          "metadata": {
            "tags": []
          }
        }
      ]
    }
  ]
}