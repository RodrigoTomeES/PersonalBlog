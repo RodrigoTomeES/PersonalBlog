{
  "nbformat": 4,
  "nbformat_minor": 0,
  "metadata": {
    "colab": {
      "name": "Kernel.ipynb",
      "version": "0.3.2",
      "provenance": []
    },
    "kernelspec": {
      "name": "python3",
      "display_name": "Python 3"
    }
  },
  "cells": [
    {
      "metadata": {
        "id": "Bjc8ggCNwWKm",
        "colab_type": "text"
      },
      "cell_type": "markdown",
      "source": [
        "# Kernel\n",
        "\n",
        "Comenzamos cargando las librerías necesarias"
      ]
    },
    {
      "metadata": {
        "id": "VKVlZAsmwRti",
        "colab_type": "code",
        "colab": {}
      },
      "cell_type": "code",
      "source": [
        "import numpy as np\n",
        "import pandas as pd\n",
        "from sklearn.neural_network import MLPClassifier"
      ],
      "execution_count": 0,
      "outputs": []
    },
    {
      "metadata": {
        "id": "u9z6ZilrwnQn",
        "colab_type": "text"
      },
      "cell_type": "markdown",
      "source": [
        "Cargamos el dataset de entrenamiento."
      ]
    },
    {
      "metadata": {
        "id": "wrjY2iRuydqS",
        "colab_type": "code",
        "colab": {
          "base_uri": "https://localhost:8080/",
          "height": 410
        },
        "outputId": "a2288b28-1e29-4e50-da27-3de27586491b"
      },
      "cell_type": "code",
      "source": [
        "!wget https://poseidus.midomotica.com/IA/dataset/train.csv\n",
        "!wget https://poseidus.midomotica.com/IA/dataset/test.csv"
      ],
      "execution_count": 91,
      "outputs": [
        {
          "output_type": "stream",
          "text": [
            "--2019-04-14 22:32:09--  https://poseidus.midomotica.com/IA/dataset/train.csv\n",
            "Resolving poseidus.midomotica.com (poseidus.midomotica.com)... 104.24.105.184, 104.24.104.184\n",
            "Connecting to poseidus.midomotica.com (poseidus.midomotica.com)|104.24.105.184|:443... connected.\n",
            "HTTP request sent, awaiting response... 200 OK\n",
            "Length: 19171 (19K) [application/octet-stream]\n",
            "Saving to: ‘train.csv.14’\n",
            "\n",
            "\rtrain.csv.14          0%[                    ]       0  --.-KB/s               \rtrain.csv.14        100%[===================>]  18.72K  --.-KB/s    in 0s      \n",
            "\n",
            "2019-04-14 22:32:09 (76.4 MB/s) - ‘train.csv.14’ saved [19171/19171]\n",
            "\n",
            "--2019-04-14 22:32:11--  https://poseidus.midomotica.com/IA/dataset/test.csv\n",
            "Resolving poseidus.midomotica.com (poseidus.midomotica.com)... 104.24.105.184, 104.24.104.184\n",
            "Connecting to poseidus.midomotica.com (poseidus.midomotica.com)|104.24.105.184|:443... connected.\n",
            "HTTP request sent, awaiting response... 200 OK\n",
            "Length: 5679 (5.5K) [application/octet-stream]\n",
            "Saving to: ‘test.csv.6’\n",
            "\n",
            "test.csv.6          100%[===================>]   5.55K  --.-KB/s    in 0s      \n",
            "\n",
            "2019-04-14 22:32:11 (57.4 MB/s) - ‘test.csv.6’ saved [5679/5679]\n",
            "\n"
          ],
          "name": "stdout"
        }
      ]
    },
    {
      "metadata": {
        "id": "vFNUrVJowoTN",
        "colab_type": "code",
        "colab": {}
      },
      "cell_type": "code",
      "source": [
        "traindf = pd.read_csv(\"train.csv\")"
      ],
      "execution_count": 0,
      "outputs": []
    },
    {
      "metadata": {
        "id": "bTttxl0iwy6S",
        "colab_type": "text"
      },
      "cell_type": "markdown",
      "source": [
        "Vamos a convertir la columna genero y predicción a números. Además eliminaremos varias columnas que están intercorreladas."
      ]
    },
    {
      "metadata": {
        "id": "Xf38tfYJxCKm",
        "colab_type": "code",
        "colab": {}
      },
      "cell_type": "code",
      "source": [
        "traindf['Gender'] = traindf['Gender'].map({'Male': 0, 'Female': 1})"
      ],
      "execution_count": 0,
      "outputs": []
    },
    {
      "metadata": {
        "id": "BJTbS2oAxIBT",
        "colab_type": "code",
        "colab": {}
      },
      "cell_type": "code",
      "source": [
        "traindf.drop(['Albumin'], axis=1, inplace=True) \n",
        "traindf.drop(['Direct_Bilirubin'], axis=1, inplace=True) \n",
        "traindf.drop(['Alamine_Aminotransferase'], axis=1, inplace=True) "
      ],
      "execution_count": 0,
      "outputs": []
    },
    {
      "metadata": {
        "id": "phvxXVRCxP0B",
        "colab_type": "text"
      },
      "cell_type": "markdown",
      "source": [
        "Transformamos los datos para que puedan ser procesados por los algoritmos de predicción."
      ]
    },
    {
      "metadata": {
        "id": "AndZimJRxSDo",
        "colab_type": "code",
        "colab": {}
      },
      "cell_type": "code",
      "source": [
        "traindata = traindf.values"
      ],
      "execution_count": 0,
      "outputs": []
    },
    {
      "metadata": {
        "id": "xEIGKj3uxUy_",
        "colab_type": "text"
      },
      "cell_type": "markdown",
      "source": [
        "Separamos descriptores de clases."
      ]
    },
    {
      "metadata": {
        "id": "rM0TlNqAxWxV",
        "colab_type": "code",
        "colab": {}
      },
      "cell_type": "code",
      "source": [
        "descriptores,clases = traindata[:,0:-1],traindata[:,-1]"
      ],
      "execution_count": 0,
      "outputs": []
    },
    {
      "metadata": {
        "id": "UNU9mXTZxeVu",
        "colab_type": "text"
      },
      "cell_type": "markdown",
      "source": [
        "Convertimos las clases a un formato adecuado."
      ]
    },
    {
      "metadata": {
        "id": "Epn7xoVFxfb7",
        "colab_type": "code",
        "colab": {}
      },
      "cell_type": "code",
      "source": [
        "clases = [1 if clase==True else 0 for clase in clases]"
      ],
      "execution_count": 0,
      "outputs": []
    },
    {
      "metadata": {
        "id": "L0fhszKXxhcq",
        "colab_type": "text"
      },
      "cell_type": "markdown",
      "source": [
        "Construímos el clasificador."
      ]
    },
    {
      "metadata": {
        "id": "q09NlPWjxoIs",
        "colab_type": "code",
        "colab": {}
      },
      "cell_type": "code",
      "source": [
        "modelRN = MLPClassifier(momentum= 0.99, \n",
        "                        learning_rate_init= 0.1, \n",
        "                        hidden_layer_sizes=(3, 3, 3), \n",
        "                        activation= 'identity')"
      ],
      "execution_count": 0,
      "outputs": []
    },
    {
      "metadata": {
        "id": "K9wJqqFtxo9d",
        "colab_type": "text"
      },
      "cell_type": "markdown",
      "source": [
        "Lo entrenamos."
      ]
    },
    {
      "metadata": {
        "id": "2f7fd4sBxqFl",
        "colab_type": "code",
        "colab": {
          "base_uri": "https://localhost:8080/",
          "height": 142
        },
        "outputId": "a3e8dca8-40b9-464d-da6f-bfd4044eede6"
      },
      "cell_type": "code",
      "source": [
        "modelRN.fit(descriptores, clases)"
      ],
      "execution_count": 99,
      "outputs": [
        {
          "output_type": "execute_result",
          "data": {
            "text/plain": [
              "MLPClassifier(activation='identity', alpha=0.0001, batch_size='auto',\n",
              "       beta_1=0.9, beta_2=0.999, early_stopping=False, epsilon=1e-08,\n",
              "       hidden_layer_sizes=(3, 3, 3), learning_rate='constant',\n",
              "       learning_rate_init=0.1, max_iter=200, momentum=0.99,\n",
              "       n_iter_no_change=10, nesterovs_momentum=True, power_t=0.5,\n",
              "       random_state=None, shuffle=True, solver='adam', tol=0.0001,\n",
              "       validation_fraction=0.1, verbose=False, warm_start=False)"
            ]
          },
          "metadata": {
            "tags": []
          },
          "execution_count": 99
        }
      ]
    },
    {
      "metadata": {
        "id": "BKtpZ3ZLxvF9",
        "colab_type": "text"
      },
      "cell_type": "markdown",
      "source": [
        "Cargamos y procesamos el conjunto de test."
      ]
    },
    {
      "metadata": {
        "id": "taVkyw_BxxGJ",
        "colab_type": "code",
        "colab": {}
      },
      "cell_type": "code",
      "source": [
        "testdf = pd.read_csv(\"test.csv\")\n"
      ],
      "execution_count": 0,
      "outputs": []
    },
    {
      "metadata": {
        "id": "gzgMldQ5xza8",
        "colab_type": "text"
      },
      "cell_type": "markdown",
      "source": [
        "Realizamos las predicciones."
      ]
    },
    {
      "metadata": {
        "id": "7-w2tyh2zyth",
        "colab_type": "code",
        "colab": {}
      },
      "cell_type": "code",
      "source": [
        "testdf['Gender'] = testdf['Gender'].map({'Male': 0, 'Female': 1})"
      ],
      "execution_count": 0,
      "outputs": []
    },
    {
      "metadata": {
        "id": "20uY2UsszGEN",
        "colab_type": "code",
        "colab": {}
      },
      "cell_type": "code",
      "source": [
        "testdf.drop(['Albumin'], axis=1, inplace=True) \n",
        "testdf.drop(['Direct_Bilirubin'], axis=1, inplace=True) \n",
        "testdf.drop(['Alamine_Aminotransferase'], axis=1, inplace=True) "
      ],
      "execution_count": 0,
      "outputs": []
    },
    {
      "metadata": {
        "id": "458Pp38SzO9p",
        "colab_type": "code",
        "colab": {}
      },
      "cell_type": "code",
      "source": [
        "testdata = testdf.values"
      ],
      "execution_count": 0,
      "outputs": []
    },
    {
      "metadata": {
        "id": "RYkYW7GwzXsF",
        "colab_type": "code",
        "colab": {
          "base_uri": "https://localhost:8080/",
          "height": 142
        },
        "outputId": "90ec02e1-6a7a-45a6-bc1b-87f1712abeca"
      },
      "cell_type": "code",
      "source": [
        "testdata"
      ],
      "execution_count": 104,
      "outputs": [
        {
          "output_type": "execute_result",
          "data": {
            "text/plain": [
              "array([[ 36.  ,   0.  ,   0.8 , ...,  39.  ,   6.  ,   0.5 ],\n",
              "       [ 55.  ,   0.  ,  14.1 , ...,  63.  ,   5.  ,   0.47],\n",
              "       [ 61.  ,   0.  ,   0.8 , ...,  35.  ,   6.9 ,   0.9 ],\n",
              "       ...,\n",
              "       [ 60.  ,   0.  ,   5.2 , ..., 202.  ,   6.8 ,   0.7 ],\n",
              "       [ 72.  ,   0.  ,   0.8 , ...,  35.  ,   6.  ,   1.  ],\n",
              "       [ 27.  ,   0.  ,   1.  , ..., 145.  ,   6.  ,   1.  ]])"
            ]
          },
          "metadata": {
            "tags": []
          },
          "execution_count": 104
        }
      ]
    },
    {
      "metadata": {
        "id": "ebnbQzD4x0lP",
        "colab_type": "code",
        "colab": {}
      },
      "cell_type": "code",
      "source": [
        "predicciones = modelRN.predict(testdata)"
      ],
      "execution_count": 0,
      "outputs": []
    },
    {
      "metadata": {
        "id": "GFF6ditux4hK",
        "colab_type": "text"
      },
      "cell_type": "markdown",
      "source": [
        "Convertimos las predicciones al formato adecuado."
      ]
    },
    {
      "metadata": {
        "id": "r06PVkJkx5wS",
        "colab_type": "code",
        "colab": {}
      },
      "cell_type": "code",
      "source": [
        "predicciones = [True if prediccion==1 else False for prediccion in predicciones]"
      ],
      "execution_count": 0,
      "outputs": []
    },
    {
      "metadata": {
        "id": "bbcv4LIbx78i",
        "colab_type": "text"
      },
      "cell_type": "markdown",
      "source": [
        "Construímos un dataframe con los resultados y un índice."
      ]
    },
    {
      "metadata": {
        "id": "r-gNKydSx9fr",
        "colab_type": "code",
        "colab": {}
      },
      "cell_type": "code",
      "source": [
        "soldf = pd.DataFrame(list(enumerate(predicciones)))"
      ],
      "execution_count": 0,
      "outputs": []
    },
    {
      "metadata": {
        "id": "W9creD_7x-yC",
        "colab_type": "text"
      },
      "cell_type": "markdown",
      "source": [
        "Añadímos la cabecera adecuada."
      ]
    },
    {
      "metadata": {
        "id": "xgyjIPBOx___",
        "colab_type": "code",
        "colab": {}
      },
      "cell_type": "code",
      "source": [
        "soldf.columns = ['Id','Prediction']"
      ],
      "execution_count": 0,
      "outputs": []
    },
    {
      "metadata": {
        "id": "T-wSHp_1yBkK",
        "colab_type": "text"
      },
      "cell_type": "markdown",
      "source": [
        "Mostramos el dataframe."
      ]
    },
    {
      "metadata": {
        "id": "eXEO1JI0yEq8",
        "colab_type": "code",
        "colab": {
          "base_uri": "https://localhost:8080/",
          "height": 1992
        },
        "outputId": "e6999f9d-668c-4af9-c917-43162412b891"
      },
      "cell_type": "code",
      "source": [
        "soldf"
      ],
      "execution_count": 109,
      "outputs": [
        {
          "output_type": "execute_result",
          "data": {
            "text/html": [
              "<div>\n",
              "<style scoped>\n",
              "    .dataframe tbody tr th:only-of-type {\n",
              "        vertical-align: middle;\n",
              "    }\n",
              "\n",
              "    .dataframe tbody tr th {\n",
              "        vertical-align: top;\n",
              "    }\n",
              "\n",
              "    .dataframe thead th {\n",
              "        text-align: right;\n",
              "    }\n",
              "</style>\n",
              "<table border=\"1\" class=\"dataframe\">\n",
              "  <thead>\n",
              "    <tr style=\"text-align: right;\">\n",
              "      <th></th>\n",
              "      <th>Id</th>\n",
              "      <th>Prediction</th>\n",
              "    </tr>\n",
              "  </thead>\n",
              "  <tbody>\n",
              "    <tr>\n",
              "      <th>0</th>\n",
              "      <td>0</td>\n",
              "      <td>False</td>\n",
              "    </tr>\n",
              "    <tr>\n",
              "      <th>1</th>\n",
              "      <td>1</td>\n",
              "      <td>False</td>\n",
              "    </tr>\n",
              "    <tr>\n",
              "      <th>2</th>\n",
              "      <td>2</td>\n",
              "      <td>False</td>\n",
              "    </tr>\n",
              "    <tr>\n",
              "      <th>3</th>\n",
              "      <td>3</td>\n",
              "      <td>False</td>\n",
              "    </tr>\n",
              "    <tr>\n",
              "      <th>4</th>\n",
              "      <td>4</td>\n",
              "      <td>False</td>\n",
              "    </tr>\n",
              "    <tr>\n",
              "      <th>5</th>\n",
              "      <td>5</td>\n",
              "      <td>False</td>\n",
              "    </tr>\n",
              "    <tr>\n",
              "      <th>6</th>\n",
              "      <td>6</td>\n",
              "      <td>False</td>\n",
              "    </tr>\n",
              "    <tr>\n",
              "      <th>7</th>\n",
              "      <td>7</td>\n",
              "      <td>False</td>\n",
              "    </tr>\n",
              "    <tr>\n",
              "      <th>8</th>\n",
              "      <td>8</td>\n",
              "      <td>True</td>\n",
              "    </tr>\n",
              "    <tr>\n",
              "      <th>9</th>\n",
              "      <td>9</td>\n",
              "      <td>False</td>\n",
              "    </tr>\n",
              "    <tr>\n",
              "      <th>10</th>\n",
              "      <td>10</td>\n",
              "      <td>False</td>\n",
              "    </tr>\n",
              "    <tr>\n",
              "      <th>11</th>\n",
              "      <td>11</td>\n",
              "      <td>False</td>\n",
              "    </tr>\n",
              "    <tr>\n",
              "      <th>12</th>\n",
              "      <td>12</td>\n",
              "      <td>True</td>\n",
              "    </tr>\n",
              "    <tr>\n",
              "      <th>13</th>\n",
              "      <td>13</td>\n",
              "      <td>False</td>\n",
              "    </tr>\n",
              "    <tr>\n",
              "      <th>14</th>\n",
              "      <td>14</td>\n",
              "      <td>False</td>\n",
              "    </tr>\n",
              "    <tr>\n",
              "      <th>15</th>\n",
              "      <td>15</td>\n",
              "      <td>False</td>\n",
              "    </tr>\n",
              "    <tr>\n",
              "      <th>16</th>\n",
              "      <td>16</td>\n",
              "      <td>False</td>\n",
              "    </tr>\n",
              "    <tr>\n",
              "      <th>17</th>\n",
              "      <td>17</td>\n",
              "      <td>False</td>\n",
              "    </tr>\n",
              "    <tr>\n",
              "      <th>18</th>\n",
              "      <td>18</td>\n",
              "      <td>False</td>\n",
              "    </tr>\n",
              "    <tr>\n",
              "      <th>19</th>\n",
              "      <td>19</td>\n",
              "      <td>False</td>\n",
              "    </tr>\n",
              "    <tr>\n",
              "      <th>20</th>\n",
              "      <td>20</td>\n",
              "      <td>True</td>\n",
              "    </tr>\n",
              "    <tr>\n",
              "      <th>21</th>\n",
              "      <td>21</td>\n",
              "      <td>False</td>\n",
              "    </tr>\n",
              "    <tr>\n",
              "      <th>22</th>\n",
              "      <td>22</td>\n",
              "      <td>False</td>\n",
              "    </tr>\n",
              "    <tr>\n",
              "      <th>23</th>\n",
              "      <td>23</td>\n",
              "      <td>False</td>\n",
              "    </tr>\n",
              "    <tr>\n",
              "      <th>24</th>\n",
              "      <td>24</td>\n",
              "      <td>False</td>\n",
              "    </tr>\n",
              "    <tr>\n",
              "      <th>25</th>\n",
              "      <td>25</td>\n",
              "      <td>False</td>\n",
              "    </tr>\n",
              "    <tr>\n",
              "      <th>26</th>\n",
              "      <td>26</td>\n",
              "      <td>False</td>\n",
              "    </tr>\n",
              "    <tr>\n",
              "      <th>27</th>\n",
              "      <td>27</td>\n",
              "      <td>False</td>\n",
              "    </tr>\n",
              "    <tr>\n",
              "      <th>28</th>\n",
              "      <td>28</td>\n",
              "      <td>False</td>\n",
              "    </tr>\n",
              "    <tr>\n",
              "      <th>29</th>\n",
              "      <td>29</td>\n",
              "      <td>False</td>\n",
              "    </tr>\n",
              "    <tr>\n",
              "      <th>...</th>\n",
              "      <td>...</td>\n",
              "      <td>...</td>\n",
              "    </tr>\n",
              "    <tr>\n",
              "      <th>116</th>\n",
              "      <td>116</td>\n",
              "      <td>False</td>\n",
              "    </tr>\n",
              "    <tr>\n",
              "      <th>117</th>\n",
              "      <td>117</td>\n",
              "      <td>False</td>\n",
              "    </tr>\n",
              "    <tr>\n",
              "      <th>118</th>\n",
              "      <td>118</td>\n",
              "      <td>False</td>\n",
              "    </tr>\n",
              "    <tr>\n",
              "      <th>119</th>\n",
              "      <td>119</td>\n",
              "      <td>False</td>\n",
              "    </tr>\n",
              "    <tr>\n",
              "      <th>120</th>\n",
              "      <td>120</td>\n",
              "      <td>False</td>\n",
              "    </tr>\n",
              "    <tr>\n",
              "      <th>121</th>\n",
              "      <td>121</td>\n",
              "      <td>False</td>\n",
              "    </tr>\n",
              "    <tr>\n",
              "      <th>122</th>\n",
              "      <td>122</td>\n",
              "      <td>False</td>\n",
              "    </tr>\n",
              "    <tr>\n",
              "      <th>123</th>\n",
              "      <td>123</td>\n",
              "      <td>False</td>\n",
              "    </tr>\n",
              "    <tr>\n",
              "      <th>124</th>\n",
              "      <td>124</td>\n",
              "      <td>False</td>\n",
              "    </tr>\n",
              "    <tr>\n",
              "      <th>125</th>\n",
              "      <td>125</td>\n",
              "      <td>False</td>\n",
              "    </tr>\n",
              "    <tr>\n",
              "      <th>126</th>\n",
              "      <td>126</td>\n",
              "      <td>False</td>\n",
              "    </tr>\n",
              "    <tr>\n",
              "      <th>127</th>\n",
              "      <td>127</td>\n",
              "      <td>False</td>\n",
              "    </tr>\n",
              "    <tr>\n",
              "      <th>128</th>\n",
              "      <td>128</td>\n",
              "      <td>False</td>\n",
              "    </tr>\n",
              "    <tr>\n",
              "      <th>129</th>\n",
              "      <td>129</td>\n",
              "      <td>False</td>\n",
              "    </tr>\n",
              "    <tr>\n",
              "      <th>130</th>\n",
              "      <td>130</td>\n",
              "      <td>False</td>\n",
              "    </tr>\n",
              "    <tr>\n",
              "      <th>131</th>\n",
              "      <td>131</td>\n",
              "      <td>False</td>\n",
              "    </tr>\n",
              "    <tr>\n",
              "      <th>132</th>\n",
              "      <td>132</td>\n",
              "      <td>True</td>\n",
              "    </tr>\n",
              "    <tr>\n",
              "      <th>133</th>\n",
              "      <td>133</td>\n",
              "      <td>True</td>\n",
              "    </tr>\n",
              "    <tr>\n",
              "      <th>134</th>\n",
              "      <td>134</td>\n",
              "      <td>False</td>\n",
              "    </tr>\n",
              "    <tr>\n",
              "      <th>135</th>\n",
              "      <td>135</td>\n",
              "      <td>False</td>\n",
              "    </tr>\n",
              "    <tr>\n",
              "      <th>136</th>\n",
              "      <td>136</td>\n",
              "      <td>True</td>\n",
              "    </tr>\n",
              "    <tr>\n",
              "      <th>137</th>\n",
              "      <td>137</td>\n",
              "      <td>False</td>\n",
              "    </tr>\n",
              "    <tr>\n",
              "      <th>138</th>\n",
              "      <td>138</td>\n",
              "      <td>False</td>\n",
              "    </tr>\n",
              "    <tr>\n",
              "      <th>139</th>\n",
              "      <td>139</td>\n",
              "      <td>False</td>\n",
              "    </tr>\n",
              "    <tr>\n",
              "      <th>140</th>\n",
              "      <td>140</td>\n",
              "      <td>False</td>\n",
              "    </tr>\n",
              "    <tr>\n",
              "      <th>141</th>\n",
              "      <td>141</td>\n",
              "      <td>False</td>\n",
              "    </tr>\n",
              "    <tr>\n",
              "      <th>142</th>\n",
              "      <td>142</td>\n",
              "      <td>False</td>\n",
              "    </tr>\n",
              "    <tr>\n",
              "      <th>143</th>\n",
              "      <td>143</td>\n",
              "      <td>False</td>\n",
              "    </tr>\n",
              "    <tr>\n",
              "      <th>144</th>\n",
              "      <td>144</td>\n",
              "      <td>False</td>\n",
              "    </tr>\n",
              "    <tr>\n",
              "      <th>145</th>\n",
              "      <td>145</td>\n",
              "      <td>False</td>\n",
              "    </tr>\n",
              "  </tbody>\n",
              "</table>\n",
              "<p>146 rows × 2 columns</p>\n",
              "</div>"
            ],
            "text/plain": [
              "      Id  Prediction\n",
              "0      0       False\n",
              "1      1       False\n",
              "2      2       False\n",
              "3      3       False\n",
              "4      4       False\n",
              "5      5       False\n",
              "6      6       False\n",
              "7      7       False\n",
              "8      8        True\n",
              "9      9       False\n",
              "10    10       False\n",
              "11    11       False\n",
              "12    12        True\n",
              "13    13       False\n",
              "14    14       False\n",
              "15    15       False\n",
              "16    16       False\n",
              "17    17       False\n",
              "18    18       False\n",
              "19    19       False\n",
              "20    20        True\n",
              "21    21       False\n",
              "22    22       False\n",
              "23    23       False\n",
              "24    24       False\n",
              "25    25       False\n",
              "26    26       False\n",
              "27    27       False\n",
              "28    28       False\n",
              "29    29       False\n",
              "..   ...         ...\n",
              "116  116       False\n",
              "117  117       False\n",
              "118  118       False\n",
              "119  119       False\n",
              "120  120       False\n",
              "121  121       False\n",
              "122  122       False\n",
              "123  123       False\n",
              "124  124       False\n",
              "125  125       False\n",
              "126  126       False\n",
              "127  127       False\n",
              "128  128       False\n",
              "129  129       False\n",
              "130  130       False\n",
              "131  131       False\n",
              "132  132        True\n",
              "133  133        True\n",
              "134  134       False\n",
              "135  135       False\n",
              "136  136        True\n",
              "137  137       False\n",
              "138  138       False\n",
              "139  139       False\n",
              "140  140       False\n",
              "141  141       False\n",
              "142  142       False\n",
              "143  143       False\n",
              "144  144       False\n",
              "145  145       False\n",
              "\n",
              "[146 rows x 2 columns]"
            ]
          },
          "metadata": {
            "tags": []
          },
          "execution_count": 109
        }
      ]
    },
    {
      "metadata": {
        "id": "Mrtts0z4yG8J",
        "colab_type": "text"
      },
      "cell_type": "markdown",
      "source": [
        "Finalmente guardamos el dataframe en un fichero csv con el formato adecuado."
      ]
    },
    {
      "metadata": {
        "id": "72jCnijUyIwX",
        "colab_type": "code",
        "colab": {}
      },
      "cell_type": "code",
      "source": [
        "soldf.to_csv(\"submission.csv\",sep=',',index=False)"
      ],
      "execution_count": 0,
      "outputs": []
    },
    {
      "metadata": {
        "id": "GriN2Vgx0OLe",
        "colab_type": "code",
        "colab": {}
      },
      "cell_type": "code",
      "source": [
        "from google.colab import files\n",
        "files.download(\"submission.csv\")"
      ],
      "execution_count": 0,
      "outputs": []
    }
  ]
}